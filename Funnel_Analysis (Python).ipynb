{
 "cells": [
  {
   "cell_type": "markdown",
   "metadata": {},
   "source": [
    "## Technical description\n",
    "\n",
    "- Test name: `interface_eu_test`\n",
    "- Groups: А (control), B (new payment funnel)\n",
    "- Launch date: 2020-12-07\n",
    "- The date when they stopped taking up new users: 2020-12-23\n",
    "- End date: 2020-12-30\n",
    "- Audience: 15% of the new users from the EU region\n",
    "- Purpose of the test: testing changes related to the introduction of an improved recommendation system\n",
    "- Expected result: within 14 days of signing up, users will show better conversion into product page views (the `product_page` event), product card views (`product_card`) and purchases (`purchase`). At each of the stage of the funnel `product_page → product_card → purchase`, there will be at least a 10% increase.\n",
    "- Expected number of test participants: 6000"
   ]
  },
  {
   "cell_type": "markdown",
   "metadata": {},
   "source": [
    "### Table of Contents: <a class=\"anchor\" id=\"contents\"></a>\n",
    "\n",
    "#### [1. Preparing environment and uploading data](#chapter1)\n",
    "   * [1.1 Importing packages](#chapter2)\n",
    "   * [1.2 Loading and optimizing datasets](#chapter3)\n",
    "   \n",
    "#### [2. Studying the general information](#chapter4)\n",
    "   * [2.1 Events table](#chapter5)\n",
    "   * [2.2 Users table](#chapter6)\n",
    "   * [2.3 Participants table](#chapter7)\n",
    "   * [2.4 Project management events table](#chapter8)\n",
    "   * [Conclusion](#chapter9)  \n",
    "   \n",
    "#### [3. Data preprocessing](#chapter10) \n",
    "   * [3.1 Filtering data](#chapter11) \n",
    "   * [3.2 Merging tables](#chapter12) \n",
    "   * [Conclusion](#chapter13)\n",
    "\n",
    "#### [4. EDA](#chapter14)\n",
    "   * [4.1 Studying the filtered data](#chapter15)\n",
    "       * [General information about all users from EU](#chapter18)\n",
    "       * [What period of time does the data cover?](#chapter19)\n",
    "       * [How many events are in the logs?](#chapter20)\n",
    "       * [What's the average number of events per user?](#chapter21)\n",
    "       * [Checking additional informations about users](#chapter22)\n",
    "       * [Checking experimental groups](#chapter23)\n",
    "       * [Conclusion](#chapter24)\n",
    "       \n",
    "       \n",
    "   * [4.2 Studying the event funnel](#chapter16)\n",
    "       * [What is the frequency of occurrence events?](#chapter25)\n",
    "       * [Calculating proportion of users who performed the action at least once ](#chapter26)\n",
    "       * [What order the actions took place?](#chapter27)\n",
    "       * [First/last event for each user](#chapter28)\n",
    "       * [What share of users make the entire journey from their first event to payment?](#chapter29)\n",
    "       * [Conclusion](#chapter30)\n",
    "   \n",
    "   \n",
    "#### [5. Evaluate the A/B test results](#chapter17)\n",
    "   * [5.1 Studying the general information of results of the experiment](#chapter31)\n",
    "   * [5.2 Is there a statistically significant difference between group A and B in general?](#chapter32)\n",
    "   * [5.3 Studying the events in the groups](#chapter33)\n",
    "   * [5.4 Is there a statistically significant difference between group A and B in events?](#chapter34)\n",
    "   * [Conclusion](#chapter35)\n",
    "   \n",
    "#### [Overall conclusion](#chapter36) "
   ]
  },
  {
   "cell_type": "markdown",
   "metadata": {},
   "source": [
    "### 1.  Preparing environment and uploading data <a class=\"anchor\" id=\"chapter1\"></a>"
   ]
  },
  {
   "cell_type": "markdown",
   "metadata": {},
   "source": [
    "#### 1.1 Importing packages <a class=\"anchor\" id=\"chapter2\"></a>"
   ]
  },
  {
   "cell_type": "code",
   "execution_count": 1,
   "metadata": {},
   "outputs": [],
   "source": [
    "import pandas as pd\n",
    "import numpy as np\n",
    "import matplotlib.pyplot as plt\n",
    "import seaborn as sns\n",
    "import plotly\n",
    "from plotly.subplots import make_subplots\n",
    "import plotly.graph_objects as go\n",
    "from scipy import stats as st\n",
    "import math as mth\n",
    "from datetime import datetime"
   ]
  },
  {
   "cell_type": "markdown",
   "metadata": {},
   "source": [
    "[Back to the Table of Contents](#contents)"
   ]
  },
  {
   "cell_type": "markdown",
   "metadata": {},
   "source": [
    "#### 1.2 Loading and optimizing datasets <a class=\"anchor\" id=\"chapter3\"></a>"
   ]
  },
  {
   "cell_type": "code",
   "execution_count": 2,
   "metadata": {},
   "outputs": [],
   "source": [
    "#saving path to the file into parameters\n",
    "LOCAL_PATH_1 = 'test'\n",
    "LOCAL_PATH_2 = 'test'\n",
    "LOCAL_PATH_3 = 'test'\n",
    "LOCAL_PATH_4 = 'test'\n",
    "\n",
    "PLATFORM_PATH_1 = 'test'\n",
    "PLATFORM_PATH_2 = 'test'\n",
    "PLATFORM_PATH_3 = 'test'\n",
    "PLATFORM_PATH_4 = 'test'\n",
    "\n",
    "#reading cvs\n",
    "try:\n",
    "    df_events = pd.read_csv(LOCAL_PATH_1, parse_dates=['event_dt'])\n",
    "    df_new_users = pd.read_csv(LOCAL_PATH_2, parse_dates=['first_date'])\n",
    "    df_participants = pd.read_csv(LOCAL_PATH_3)\n",
    "    df_pm_events = pd.read_csv(LOCAL_PATH_4, parse_dates=['start_dt', 'finish_dt'])\n",
    "except:\n",
    "    df_events = pd.read_csv(PLATFORM_PATH_1, parse_dates=['event_dt'])\n",
    "    df_new_users = pd.read_csv(PLATFORM_PATH_2, parse_dates=['first_date'])\n",
    "    df_participants = pd.read_csv(PLATFORM_PATH_3)\n",
    "    df_pm_events = pd.read_csv(PLATFORM_PATH_4, parse_dates=['start_dt', 'finish_dt'])"
   ]
  },
  {
   "cell_type": "markdown",
   "metadata": {},
   "source": [
    "Data sets were downloaded. I used parse_dates parameter (changes format to datetime in columns) for columns that contain information about date.  \n",
    "\n",
    "- `df_events` — all events of the new users within the period from December 7, 2020 to January 1, 2021\n",
    "- `df_new_users` — all users who signed up in the online store from December 7 to 21, 2020\n",
    "- `df_participants` — table containing test participants\n",
    "- `df_pm_events` — the calendar of marketing events for 2020\n",
    "- `df_old` - old dataset"
   ]
  },
  {
   "cell_type": "code",
   "execution_count": 3,
   "metadata": {},
   "outputs": [
    {
     "name": "stdout",
     "output_type": "stream",
     "text": [
      "<class 'pandas.core.frame.DataFrame'>\n",
      "RangeIndex: 423761 entries, 0 to 423760\n",
      "Data columns (total 4 columns):\n",
      " #   Column      Non-Null Count   Dtype         \n",
      "---  ------      --------------   -----         \n",
      " 0   user_id     423761 non-null  object        \n",
      " 1   event_dt    423761 non-null  datetime64[ns]\n",
      " 2   event_name  423761 non-null  object        \n",
      " 3   details     60314 non-null   float64       \n",
      "dtypes: datetime64[ns](1), float64(1), object(2)\n",
      "memory usage: 62.4 MB\n"
     ]
    }
   ],
   "source": [
    "#cecking information about the events table\n",
    "df_events.info(memory_usage='deep')"
   ]
  },
  {
   "cell_type": "markdown",
   "metadata": {},
   "source": [
    "Table is heavy and probably columns data type need some adjustment.  "
   ]
  },
  {
   "cell_type": "code",
   "execution_count": 4,
   "metadata": {},
   "outputs": [
    {
     "name": "stdout",
     "output_type": "stream",
     "text": [
      "<class 'pandas.core.frame.DataFrame'>\n",
      "RangeIndex: 58703 entries, 0 to 58702\n",
      "Data columns (total 4 columns):\n",
      " #   Column      Non-Null Count  Dtype         \n",
      "---  ------      --------------  -----         \n",
      " 0   user_id     58703 non-null  object        \n",
      " 1   first_date  58703 non-null  datetime64[ns]\n",
      " 2   region      58703 non-null  object        \n",
      " 3   device      58703 non-null  object        \n",
      "dtypes: datetime64[ns](1), object(3)\n",
      "memory usage: 11.4 MB\n"
     ]
    }
   ],
   "source": [
    "#cecking information about the users table\n",
    "df_new_users.info(memory_usage='deep')"
   ]
  },
  {
   "cell_type": "markdown",
   "metadata": {},
   "source": [
    "Table is quite heavy and probably columns data type need some adjustment.  "
   ]
  },
  {
   "cell_type": "code",
   "execution_count": 5,
   "metadata": {},
   "outputs": [
    {
     "name": "stdout",
     "output_type": "stream",
     "text": [
      "<class 'pandas.core.frame.DataFrame'>\n",
      "RangeIndex: 14525 entries, 0 to 14524\n",
      "Data columns (total 3 columns):\n",
      " #   Column   Non-Null Count  Dtype \n",
      "---  ------   --------------  ----- \n",
      " 0   user_id  14525 non-null  object\n",
      " 1   group    14525 non-null  object\n",
      " 2   ab_test  14525 non-null  object\n",
      "dtypes: object(3)\n",
      "memory usage: 3.0 MB\n"
     ]
    }
   ],
   "source": [
    "#cecking information about the participants table\n",
    "df_participants.info(memory_usage='deep')"
   ]
  },
  {
   "cell_type": "markdown",
   "metadata": {},
   "source": [
    "Table isn't heavy, columns data type don't need some adjustment."
   ]
  },
  {
   "cell_type": "code",
   "execution_count": 6,
   "metadata": {},
   "outputs": [
    {
     "name": "stdout",
     "output_type": "stream",
     "text": [
      "<class 'pandas.core.frame.DataFrame'>\n",
      "RangeIndex: 14 entries, 0 to 13\n",
      "Data columns (total 4 columns):\n",
      " #   Column     Non-Null Count  Dtype         \n",
      "---  ------     --------------  -----         \n",
      " 0   name       14 non-null     object        \n",
      " 1   regions    14 non-null     object        \n",
      " 2   start_dt   14 non-null     datetime64[ns]\n",
      " 3   finish_dt  14 non-null     datetime64[ns]\n",
      "dtypes: datetime64[ns](2), object(2)\n",
      "memory usage: 2.4 KB\n"
     ]
    }
   ],
   "source": [
    "#cecking information about the project management events table\n",
    "df_pm_events.info(memory_usage='deep')"
   ]
  },
  {
   "cell_type": "markdown",
   "metadata": {},
   "source": [
    "Table isn't heavy, columns data type don't need some adjustment.  \n",
    "Let's study the general information about tables."
   ]
  },
  {
   "cell_type": "markdown",
   "metadata": {},
   "source": [
    "[Back to the Table of Contents](#contents)"
   ]
  },
  {
   "cell_type": "markdown",
   "metadata": {},
   "source": [
    "### 2. Studying the general information <a class=\"anchor\" id=\"chapter4\"></a>"
   ]
  },
  {
   "cell_type": "markdown",
   "metadata": {},
   "source": [
    "#### 2.1 Events table <a class=\"anchor\" id=\"chapter5\"></a>"
   ]
  },
  {
   "cell_type": "code",
   "execution_count": 7,
   "metadata": {},
   "outputs": [
    {
     "data": {
      "text/html": [
       "<div>\n",
       "<style scoped>\n",
       "    .dataframe tbody tr th:only-of-type {\n",
       "        vertical-align: middle;\n",
       "    }\n",
       "\n",
       "    .dataframe tbody tr th {\n",
       "        vertical-align: top;\n",
       "    }\n",
       "\n",
       "    .dataframe thead th {\n",
       "        text-align: right;\n",
       "    }\n",
       "</style>\n",
       "<table border=\"1\" class=\"dataframe\">\n",
       "  <thead>\n",
       "    <tr style=\"text-align: right;\">\n",
       "      <th></th>\n",
       "      <th>user_id</th>\n",
       "      <th>event_dt</th>\n",
       "      <th>event_name</th>\n",
       "      <th>details</th>\n",
       "    </tr>\n",
       "  </thead>\n",
       "  <tbody>\n",
       "    <tr>\n",
       "      <th>423756</th>\n",
       "      <td>245E85F65C358E08</td>\n",
       "      <td>2020-12-30 19:35:55</td>\n",
       "      <td>login</td>\n",
       "      <td>NaN</td>\n",
       "    </tr>\n",
       "    <tr>\n",
       "      <th>423757</th>\n",
       "      <td>9385A108F5A0A7A7</td>\n",
       "      <td>2020-12-30 10:54:15</td>\n",
       "      <td>login</td>\n",
       "      <td>NaN</td>\n",
       "    </tr>\n",
       "    <tr>\n",
       "      <th>423758</th>\n",
       "      <td>DB650B7559AC6EAC</td>\n",
       "      <td>2020-12-30 10:59:09</td>\n",
       "      <td>login</td>\n",
       "      <td>NaN</td>\n",
       "    </tr>\n",
       "    <tr>\n",
       "      <th>423759</th>\n",
       "      <td>F80C9BDDEA02E53C</td>\n",
       "      <td>2020-12-30 09:53:39</td>\n",
       "      <td>login</td>\n",
       "      <td>NaN</td>\n",
       "    </tr>\n",
       "    <tr>\n",
       "      <th>423760</th>\n",
       "      <td>7AEC61159B672CC5</td>\n",
       "      <td>2020-12-30 11:36:13</td>\n",
       "      <td>login</td>\n",
       "      <td>NaN</td>\n",
       "    </tr>\n",
       "  </tbody>\n",
       "</table>\n",
       "</div>"
      ],
      "text/plain": [
       "                 user_id            event_dt event_name  details\n",
       "423756  245E85F65C358E08 2020-12-30 19:35:55      login      NaN\n",
       "423757  9385A108F5A0A7A7 2020-12-30 10:54:15      login      NaN\n",
       "423758  DB650B7559AC6EAC 2020-12-30 10:59:09      login      NaN\n",
       "423759  F80C9BDDEA02E53C 2020-12-30 09:53:39      login      NaN\n",
       "423760  7AEC61159B672CC5 2020-12-30 11:36:13      login      NaN"
      ]
     },
     "execution_count": 7,
     "metadata": {},
     "output_type": "execute_result"
    }
   ],
   "source": [
    "#cecking the table\n",
    "df_events.head()\n",
    "df_events.tail()"
   ]
  },
  {
   "cell_type": "markdown",
   "metadata": {},
   "source": [
    "Structure of events table:\n",
    "\n",
    "- `user_id`\n",
    "- `event_dt` — event date and time\n",
    "- `event_name` — event type name\n",
    "- `details` — additional data on the event (for instance, the order total in USD for `purchase` events)"
   ]
  },
  {
   "cell_type": "code",
   "execution_count": 8,
   "metadata": {},
   "outputs": [
    {
     "name": "stdout",
     "output_type": "stream",
     "text": [
      "<class 'pandas.core.frame.DataFrame'>\n",
      "RangeIndex: 423761 entries, 0 to 423760\n",
      "Data columns (total 4 columns):\n",
      " #   Column      Non-Null Count   Dtype         \n",
      "---  ------      --------------   -----         \n",
      " 0   user_id     423761 non-null  object        \n",
      " 1   event_dt    423761 non-null  datetime64[ns]\n",
      " 2   event_name  423761 non-null  object        \n",
      " 3   details     60314 non-null   float64       \n",
      "dtypes: datetime64[ns](1), float64(1), object(2)\n",
      "memory usage: 12.9+ MB\n"
     ]
    }
   ],
   "source": [
    "#checking information about the table\n",
    "df_events.info()"
   ]
  },
  {
   "cell_type": "markdown",
   "metadata": {},
   "source": [
    "Data types look correct.  \n",
    "There are missing values in column `details`, let's check this colums"
   ]
  },
  {
   "cell_type": "code",
   "execution_count": 9,
   "metadata": {},
   "outputs": [
    {
     "data": {
      "text/plain": [
       "count    60314.000000\n",
       "mean        23.881219\n",
       "std         72.228884\n",
       "min          4.990000\n",
       "25%          4.990000\n",
       "50%          4.990000\n",
       "75%          9.990000\n",
       "max        499.990000\n",
       "Name: details, dtype: float64"
      ]
     },
     "execution_count": 9,
     "metadata": {},
     "output_type": "execute_result"
    }
   ],
   "source": [
    "#checking values in column\n",
    "df_events.details.describe()"
   ]
  },
  {
   "cell_type": "markdown",
   "metadata": {},
   "source": [
    "We have numeric values in this column, that range from 4.99 to 499.99.  \n",
    "It can be the order total in USD for purchase events, let's check this theory:"
   ]
  },
  {
   "cell_type": "code",
   "execution_count": 10,
   "metadata": {},
   "outputs": [
    {
     "data": {
      "text/plain": [
       "purchase    60314\n",
       "Name: event_name, dtype: int64"
      ]
     },
     "execution_count": 10,
     "metadata": {},
     "output_type": "execute_result"
    }
   ],
   "source": [
    "#checking which events correspond to values in column 'details'\n",
    "df_events[df_events['details'].notnull()]['event_name'].value_counts()"
   ]
  },
  {
   "cell_type": "code",
   "execution_count": 11,
   "metadata": {},
   "outputs": [
    {
     "data": {
      "text/plain": [
       "login           182465\n",
       "product_page    120862\n",
       "product_cart     60120\n",
       "Name: event_name, dtype: int64"
      ]
     },
     "execution_count": 11,
     "metadata": {},
     "output_type": "execute_result"
    }
   ],
   "source": [
    "#checking which events correspond to missing values in column 'details'\n",
    "df_events[df_events['details'].isnull()]['event_name'].value_counts()"
   ]
  },
  {
   "cell_type": "markdown",
   "metadata": {},
   "source": [
    "As we can see values in this column are order total in USD for purchase events.  \n",
    "And missing values here are not really missing, they don't exist for other events."
   ]
  },
  {
   "cell_type": "code",
   "execution_count": 12,
   "metadata": {},
   "outputs": [
    {
     "name": "stdout",
     "output_type": "stream",
     "text": [
      "First event date: 2020-12-07 00:00:33\n",
      "Last event date: 2020-12-30 23:36:33\n"
     ]
    }
   ],
   "source": [
    "print(\"First event date:\", df_events.event_dt.min())\n",
    "print(\"Last event date:\", df_events.event_dt.max())"
   ]
  },
  {
   "cell_type": "code",
   "execution_count": 13,
   "metadata": {},
   "outputs": [
    {
     "name": "stdout",
     "output_type": "stream",
     "text": [
      "Number of users in events table: 58703\n"
     ]
    }
   ],
   "source": [
    "print('Number of users in events table:', df_events.user_id.nunique())"
   ]
  },
  {
   "cell_type": "code",
   "execution_count": 14,
   "metadata": {},
   "outputs": [
    {
     "data": {
      "text/plain": [
       "login           182465\n",
       "product_page    120862\n",
       "purchase         60314\n",
       "product_cart     60120\n",
       "Name: event_name, dtype: int64"
      ]
     },
     "execution_count": 14,
     "metadata": {},
     "output_type": "execute_result"
    }
   ],
   "source": [
    "#checking values in column\n",
    "df_events.event_name.value_counts()"
   ]
  },
  {
   "cell_type": "markdown",
   "metadata": {},
   "source": [
    "We have 4 events here (in possible chronological sequence):\n",
    "- login\n",
    "- product_page\n",
    "- product_cart\n",
    "- purchase\n",
    "\n",
    "Why do we have more views purchase than product_cart?  \n",
    "I assume that there is fast link for purchase (user can buy in one click without visiting cart).  \n",
    "I will come back to studying events after preprocessing."
   ]
  },
  {
   "cell_type": "code",
   "execution_count": 70,
   "metadata": {},
   "outputs": [
    {
     "name": "stderr",
     "output_type": "stream",
     "text": [
      "/opt/anaconda3/lib/python3.7/site-packages/ipykernel_launcher.py:2: FutureWarning: Treating datetime data as categorical rather than numeric in `.describe` is deprecated and will be removed in a future version of pandas. Specify `datetime_is_numeric=True` to silence this warning and adopt the future behavior now.\n",
      "  \n"
     ]
    },
    {
     "data": {
      "text/plain": [
       "count                  423761\n",
       "unique                 257138\n",
       "top       2020-12-23 02:37:24\n",
       "freq                       10\n",
       "first     2020-12-07 00:00:33\n",
       "last      2020-12-30 23:36:33\n",
       "Name: event_dt, dtype: object"
      ]
     },
     "execution_count": 70,
     "metadata": {},
     "output_type": "execute_result"
    }
   ],
   "source": [
    "#checking values in column\n",
    "df_events.event_dt.describe()\n",
    "#datetime_is_numeric=True - parameter that required when you work locally"
   ]
  },
  {
   "cell_type": "markdown",
   "metadata": {},
   "source": [
    "Values in other columns look ok."
   ]
  },
  {
   "cell_type": "code",
   "execution_count": 16,
   "metadata": {},
   "outputs": [
    {
     "name": "stdout",
     "output_type": "stream",
     "text": [
      "Number of duplicates: 0\n"
     ]
    }
   ],
   "source": [
    "#checking for duplicates in the table\n",
    "print('Number of duplicates:', df_events.duplicated().sum())"
   ]
  },
  {
   "cell_type": "markdown",
   "metadata": {},
   "source": [
    "There is no duplicates."
   ]
  },
  {
   "cell_type": "markdown",
   "metadata": {},
   "source": [
    "[Back to the Table of Contents](#contents)"
   ]
  },
  {
   "cell_type": "markdown",
   "metadata": {},
   "source": [
    "#### 2.2 Users table <a class=\"anchor\" id=\"chapter6\"></a>"
   ]
  },
  {
   "cell_type": "code",
   "execution_count": 17,
   "metadata": {},
   "outputs": [
    {
     "data": {
      "text/html": [
       "<div>\n",
       "<style scoped>\n",
       "    .dataframe tbody tr th:only-of-type {\n",
       "        vertical-align: middle;\n",
       "    }\n",
       "\n",
       "    .dataframe tbody tr th {\n",
       "        vertical-align: top;\n",
       "    }\n",
       "\n",
       "    .dataframe thead th {\n",
       "        text-align: right;\n",
       "    }\n",
       "</style>\n",
       "<table border=\"1\" class=\"dataframe\">\n",
       "  <thead>\n",
       "    <tr style=\"text-align: right;\">\n",
       "      <th></th>\n",
       "      <th>user_id</th>\n",
       "      <th>first_date</th>\n",
       "      <th>region</th>\n",
       "      <th>device</th>\n",
       "    </tr>\n",
       "  </thead>\n",
       "  <tbody>\n",
       "    <tr>\n",
       "      <th>58698</th>\n",
       "      <td>1DB53B933257165D</td>\n",
       "      <td>2020-12-20</td>\n",
       "      <td>EU</td>\n",
       "      <td>Android</td>\n",
       "    </tr>\n",
       "    <tr>\n",
       "      <th>58699</th>\n",
       "      <td>538643EB4527ED03</td>\n",
       "      <td>2020-12-20</td>\n",
       "      <td>EU</td>\n",
       "      <td>Mac</td>\n",
       "    </tr>\n",
       "    <tr>\n",
       "      <th>58700</th>\n",
       "      <td>7ADEE837D5D8CBBD</td>\n",
       "      <td>2020-12-20</td>\n",
       "      <td>EU</td>\n",
       "      <td>PC</td>\n",
       "    </tr>\n",
       "    <tr>\n",
       "      <th>58701</th>\n",
       "      <td>1C7D23927835213F</td>\n",
       "      <td>2020-12-20</td>\n",
       "      <td>EU</td>\n",
       "      <td>iPhone</td>\n",
       "    </tr>\n",
       "    <tr>\n",
       "      <th>58702</th>\n",
       "      <td>8F04273BB2860229</td>\n",
       "      <td>2020-12-20</td>\n",
       "      <td>EU</td>\n",
       "      <td>Android</td>\n",
       "    </tr>\n",
       "  </tbody>\n",
       "</table>\n",
       "</div>"
      ],
      "text/plain": [
       "                user_id first_date region   device\n",
       "58698  1DB53B933257165D 2020-12-20     EU  Android\n",
       "58699  538643EB4527ED03 2020-12-20     EU      Mac\n",
       "58700  7ADEE837D5D8CBBD 2020-12-20     EU       PC\n",
       "58701  1C7D23927835213F 2020-12-20     EU   iPhone\n",
       "58702  8F04273BB2860229 2020-12-20     EU  Android"
      ]
     },
     "execution_count": 17,
     "metadata": {},
     "output_type": "execute_result"
    }
   ],
   "source": [
    "#cecking the table\n",
    "df_new_users.head()\n",
    "df_new_users.tail()"
   ]
  },
  {
   "cell_type": "markdown",
   "metadata": {},
   "source": [
    "Structure of users table:\n",
    "\n",
    "- `user_id`\n",
    "- `first_date` — sign-up date\n",
    "- `region`\n",
    "- `device` — device used to sign up"
   ]
  },
  {
   "cell_type": "code",
   "execution_count": 18,
   "metadata": {},
   "outputs": [
    {
     "name": "stdout",
     "output_type": "stream",
     "text": [
      "<class 'pandas.core.frame.DataFrame'>\n",
      "RangeIndex: 58703 entries, 0 to 58702\n",
      "Data columns (total 4 columns):\n",
      " #   Column      Non-Null Count  Dtype         \n",
      "---  ------      --------------  -----         \n",
      " 0   user_id     58703 non-null  object        \n",
      " 1   first_date  58703 non-null  datetime64[ns]\n",
      " 2   region      58703 non-null  object        \n",
      " 3   device      58703 non-null  object        \n",
      "dtypes: datetime64[ns](1), object(3)\n",
      "memory usage: 1.8+ MB\n"
     ]
    }
   ],
   "source": [
    "#checking information about the table\n",
    "df_new_users.info()"
   ]
  },
  {
   "cell_type": "markdown",
   "metadata": {},
   "source": [
    "There are no missing values, data types look correct.  \n",
    "Let's look closer to each column:"
   ]
  },
  {
   "cell_type": "code",
   "execution_count": 19,
   "metadata": {},
   "outputs": [
    {
     "name": "stdout",
     "output_type": "stream",
     "text": [
      "First sign-up date: 2020-12-07 00:00:00\n",
      "Last sign-up date: 2020-12-23 00:00:00\n"
     ]
    }
   ],
   "source": [
    "print(\"First sign-up date:\", df_new_users.first_date.min())\n",
    "print(\"Last sign-up date:\", df_new_users.first_date.max())"
   ]
  },
  {
   "cell_type": "code",
   "execution_count": 20,
   "metadata": {},
   "outputs": [
    {
     "name": "stdout",
     "output_type": "stream",
     "text": [
      "Number of users in users table: 58703\n"
     ]
    }
   ],
   "source": [
    "print('Number of users in users table:', df_new_users.user_id.nunique())"
   ]
  },
  {
   "cell_type": "code",
   "execution_count": 21,
   "metadata": {},
   "outputs": [
    {
     "data": {
      "text/plain": [
       "EU           43396\n",
       "N.America     9051\n",
       "CIS           3130\n",
       "APAC          3126\n",
       "Name: region, dtype: int64"
      ]
     },
     "execution_count": 21,
     "metadata": {},
     "output_type": "execute_result"
    }
   ],
   "source": [
    "#checking values in column\n",
    "df_new_users.region.value_counts()"
   ]
  },
  {
   "cell_type": "markdown",
   "metadata": {},
   "source": [
    "We have 4 region here. But for analysis we have interest in new users from the EU region only.  \n",
    "Therefore data need to be filtered. "
   ]
  },
  {
   "cell_type": "code",
   "execution_count": 22,
   "metadata": {},
   "outputs": [
    {
     "data": {
      "text/plain": [
       "Android    26159\n",
       "PC         14845\n",
       "iPhone     11902\n",
       "Mac         5797\n",
       "Name: device, dtype: int64"
      ]
     },
     "execution_count": 22,
     "metadata": {},
     "output_type": "execute_result"
    }
   ],
   "source": [
    "#checking values in column\n",
    "df_new_users.device.value_counts()"
   ]
  },
  {
   "cell_type": "markdown",
   "metadata": {},
   "source": [
    "Our users used 4 device."
   ]
  },
  {
   "cell_type": "code",
   "execution_count": 23,
   "metadata": {},
   "outputs": [
    {
     "name": "stdout",
     "output_type": "stream",
     "text": [
      "Number of duplicates: 0\n"
     ]
    }
   ],
   "source": [
    "#checking for duplicates in the table\n",
    "print('Number of duplicates:', df_new_users.duplicated().sum())"
   ]
  },
  {
   "cell_type": "markdown",
   "metadata": {},
   "source": [
    "There is no duplicates."
   ]
  },
  {
   "cell_type": "markdown",
   "metadata": {},
   "source": [
    "[Back to the Table of Contents](#contents)"
   ]
  },
  {
   "cell_type": "markdown",
   "metadata": {},
   "source": [
    "#### 2.3 Participants table <a class=\"anchor\" id=\"chapter7\"></a>"
   ]
  },
  {
   "cell_type": "code",
   "execution_count": 24,
   "metadata": {},
   "outputs": [
    {
     "data": {
      "text/html": [
       "<div>\n",
       "<style scoped>\n",
       "    .dataframe tbody tr th:only-of-type {\n",
       "        vertical-align: middle;\n",
       "    }\n",
       "\n",
       "    .dataframe tbody tr th {\n",
       "        vertical-align: top;\n",
       "    }\n",
       "\n",
       "    .dataframe thead th {\n",
       "        text-align: right;\n",
       "    }\n",
       "</style>\n",
       "<table border=\"1\" class=\"dataframe\">\n",
       "  <thead>\n",
       "    <tr style=\"text-align: right;\">\n",
       "      <th></th>\n",
       "      <th>user_id</th>\n",
       "      <th>group</th>\n",
       "      <th>ab_test</th>\n",
       "    </tr>\n",
       "  </thead>\n",
       "  <tbody>\n",
       "    <tr>\n",
       "      <th>14520</th>\n",
       "      <td>1D302F8688B91781</td>\n",
       "      <td>B</td>\n",
       "      <td>interface_eu_test</td>\n",
       "    </tr>\n",
       "    <tr>\n",
       "      <th>14521</th>\n",
       "      <td>3DE51B726983B657</td>\n",
       "      <td>A</td>\n",
       "      <td>interface_eu_test</td>\n",
       "    </tr>\n",
       "    <tr>\n",
       "      <th>14522</th>\n",
       "      <td>F501F79D332BE86C</td>\n",
       "      <td>A</td>\n",
       "      <td>interface_eu_test</td>\n",
       "    </tr>\n",
       "    <tr>\n",
       "      <th>14523</th>\n",
       "      <td>63FBE257B05F2245</td>\n",
       "      <td>A</td>\n",
       "      <td>interface_eu_test</td>\n",
       "    </tr>\n",
       "    <tr>\n",
       "      <th>14524</th>\n",
       "      <td>79F9ABFB029CF724</td>\n",
       "      <td>B</td>\n",
       "      <td>interface_eu_test</td>\n",
       "    </tr>\n",
       "  </tbody>\n",
       "</table>\n",
       "</div>"
      ],
      "text/plain": [
       "                user_id group            ab_test\n",
       "14520  1D302F8688B91781     B  interface_eu_test\n",
       "14521  3DE51B726983B657     A  interface_eu_test\n",
       "14522  F501F79D332BE86C     A  interface_eu_test\n",
       "14523  63FBE257B05F2245     A  interface_eu_test\n",
       "14524  79F9ABFB029CF724     B  interface_eu_test"
      ]
     },
     "execution_count": 24,
     "metadata": {},
     "output_type": "execute_result"
    }
   ],
   "source": [
    "#cecking the table\n",
    "df_participants.head()\n",
    "df_participants.tail()"
   ]
  },
  {
   "cell_type": "markdown",
   "metadata": {},
   "source": [
    "Structure of participants table:\n",
    "\n",
    "- `user_id`\n",
    "- `ab_test` — test name\n",
    "- `group` — the test group the user belonged to"
   ]
  },
  {
   "cell_type": "code",
   "execution_count": 25,
   "metadata": {},
   "outputs": [
    {
     "name": "stdout",
     "output_type": "stream",
     "text": [
      "<class 'pandas.core.frame.DataFrame'>\n",
      "RangeIndex: 14525 entries, 0 to 14524\n",
      "Data columns (total 3 columns):\n",
      " #   Column   Non-Null Count  Dtype \n",
      "---  ------   --------------  ----- \n",
      " 0   user_id  14525 non-null  object\n",
      " 1   group    14525 non-null  object\n",
      " 2   ab_test  14525 non-null  object\n",
      "dtypes: object(3)\n",
      "memory usage: 340.6+ KB\n"
     ]
    }
   ],
   "source": [
    "#checking information about the table\n",
    "df_participants.info()"
   ]
  },
  {
   "cell_type": "markdown",
   "metadata": {},
   "source": [
    "Data types look correct.  \n",
    "There are no missing values here."
   ]
  },
  {
   "cell_type": "code",
   "execution_count": 26,
   "metadata": {},
   "outputs": [
    {
     "name": "stdout",
     "output_type": "stream",
     "text": [
      "Number of users in participants table: 13638\n"
     ]
    }
   ],
   "source": [
    "print('Number of users in participants table:', df_participants.user_id.nunique())"
   ]
  },
  {
   "cell_type": "code",
   "execution_count": 27,
   "metadata": {},
   "outputs": [
    {
     "data": {
      "text/plain": [
       "A    8214\n",
       "B    6311\n",
       "Name: group, dtype: int64"
      ]
     },
     "execution_count": 27,
     "metadata": {},
     "output_type": "execute_result"
    }
   ],
   "source": [
    "#checking values in column\n",
    "df_participants.group.value_counts()"
   ]
  },
  {
   "cell_type": "markdown",
   "metadata": {},
   "source": [
    "We have 2 groups here.  "
   ]
  },
  {
   "cell_type": "code",
   "execution_count": 28,
   "metadata": {},
   "outputs": [
    {
     "data": {
      "text/plain": [
       "interface_eu_test          10850\n",
       "recommender_system_test     3675\n",
       "Name: ab_test, dtype: int64"
      ]
     },
     "execution_count": 28,
     "metadata": {},
     "output_type": "execute_result"
    }
   ],
   "source": [
    "#checking values in column\n",
    "df_participants.ab_test.value_counts()"
   ]
  },
  {
   "cell_type": "markdown",
   "metadata": {},
   "source": [
    "We have 2 types of AB test here, but we need only this: `interface_eu_test` for analysis.  \n",
    "Data need to be filtered."
   ]
  },
  {
   "cell_type": "markdown",
   "metadata": {},
   "source": [
    "Let's check if there is some user in interface_eu_test belong to 2 test groups simultaneously:"
   ]
  },
  {
   "cell_type": "code",
   "execution_count": 29,
   "metadata": {},
   "outputs": [
    {
     "data": {
      "text/plain": [
       "0"
      ]
     },
     "execution_count": 29,
     "metadata": {},
     "output_type": "execute_result"
    }
   ],
   "source": [
    "#saving users from group A\n",
    "users_A = df_participants.query('ab_test == \"interface_eu_test\" & group == \"A\"')['user_id']\n",
    "#checking for duplicates\n",
    "df_participants.query('ab_test == \"interface_eu_test\" & user_id in @users_A & group == \"B\"')['user_id'].count()"
   ]
  },
  {
   "cell_type": "code",
   "execution_count": 30,
   "metadata": {},
   "outputs": [
    {
     "name": "stdout",
     "output_type": "stream",
     "text": [
      "Number of duplicates: 0\n"
     ]
    }
   ],
   "source": [
    "#checking for duplicates in the table\n",
    "print('Number of duplicates:', df_participants.duplicated().sum())"
   ]
  },
  {
   "cell_type": "markdown",
   "metadata": {},
   "source": [
    "There is no duplicates."
   ]
  },
  {
   "cell_type": "markdown",
   "metadata": {},
   "source": [
    "[Back to the Table of Contents](#contents)"
   ]
  },
  {
   "cell_type": "markdown",
   "metadata": {},
   "source": [
    "#### 2.4 Project management events table <a class=\"anchor\" id=\"chapter8\"></a>"
   ]
  },
  {
   "cell_type": "code",
   "execution_count": 31,
   "metadata": {},
   "outputs": [
    {
     "data": {
      "text/html": [
       "<div>\n",
       "<style scoped>\n",
       "    .dataframe tbody tr th:only-of-type {\n",
       "        vertical-align: middle;\n",
       "    }\n",
       "\n",
       "    .dataframe tbody tr th {\n",
       "        vertical-align: top;\n",
       "    }\n",
       "\n",
       "    .dataframe thead th {\n",
       "        text-align: right;\n",
       "    }\n",
       "</style>\n",
       "<table border=\"1\" class=\"dataframe\">\n",
       "  <thead>\n",
       "    <tr style=\"text-align: right;\">\n",
       "      <th></th>\n",
       "      <th>name</th>\n",
       "      <th>regions</th>\n",
       "      <th>start_dt</th>\n",
       "      <th>finish_dt</th>\n",
       "    </tr>\n",
       "  </thead>\n",
       "  <tbody>\n",
       "    <tr>\n",
       "      <th>9</th>\n",
       "      <td>Victory Day CIS (May 9th) Event</td>\n",
       "      <td>CIS</td>\n",
       "      <td>2020-05-09</td>\n",
       "      <td>2020-05-11</td>\n",
       "    </tr>\n",
       "    <tr>\n",
       "      <th>10</th>\n",
       "      <td>CIS New Year Gift Lottery</td>\n",
       "      <td>CIS</td>\n",
       "      <td>2020-12-30</td>\n",
       "      <td>2021-01-07</td>\n",
       "    </tr>\n",
       "    <tr>\n",
       "      <th>11</th>\n",
       "      <td>Dragon Boat Festival Giveaway</td>\n",
       "      <td>APAC</td>\n",
       "      <td>2020-06-25</td>\n",
       "      <td>2020-07-01</td>\n",
       "    </tr>\n",
       "    <tr>\n",
       "      <th>12</th>\n",
       "      <td>Single's Day Gift Promo</td>\n",
       "      <td>APAC</td>\n",
       "      <td>2020-11-11</td>\n",
       "      <td>2020-11-12</td>\n",
       "    </tr>\n",
       "    <tr>\n",
       "      <th>13</th>\n",
       "      <td>Chinese Moon Festival</td>\n",
       "      <td>APAC</td>\n",
       "      <td>2020-10-01</td>\n",
       "      <td>2020-10-07</td>\n",
       "    </tr>\n",
       "  </tbody>\n",
       "</table>\n",
       "</div>"
      ],
      "text/plain": [
       "                               name regions   start_dt  finish_dt\n",
       "9   Victory Day CIS (May 9th) Event     CIS 2020-05-09 2020-05-11\n",
       "10        CIS New Year Gift Lottery     CIS 2020-12-30 2021-01-07\n",
       "11    Dragon Boat Festival Giveaway    APAC 2020-06-25 2020-07-01\n",
       "12          Single's Day Gift Promo    APAC 2020-11-11 2020-11-12\n",
       "13            Chinese Moon Festival    APAC 2020-10-01 2020-10-07"
      ]
     },
     "execution_count": 31,
     "metadata": {},
     "output_type": "execute_result"
    }
   ],
   "source": [
    "#cecking the table\n",
    "df_pm_events.head()\n",
    "df_pm_events.tail()"
   ]
  },
  {
   "cell_type": "markdown",
   "metadata": {},
   "source": [
    "Structure of project management events table :\n",
    "\n",
    "- `name` — the name of the marketing event\n",
    "- `regions` — regions where the ad campaign will be held\n",
    "- `start_dt` — campaign start date\n",
    "- `finish_dt` — campaign end date"
   ]
  },
  {
   "cell_type": "code",
   "execution_count": 32,
   "metadata": {},
   "outputs": [
    {
     "name": "stdout",
     "output_type": "stream",
     "text": [
      "<class 'pandas.core.frame.DataFrame'>\n",
      "RangeIndex: 14 entries, 0 to 13\n",
      "Data columns (total 4 columns):\n",
      " #   Column     Non-Null Count  Dtype         \n",
      "---  ------     --------------  -----         \n",
      " 0   name       14 non-null     object        \n",
      " 1   regions    14 non-null     object        \n",
      " 2   start_dt   14 non-null     datetime64[ns]\n",
      " 3   finish_dt  14 non-null     datetime64[ns]\n",
      "dtypes: datetime64[ns](2), object(2)\n",
      "memory usage: 576.0+ bytes\n"
     ]
    }
   ],
   "source": [
    "#checking information about the table\n",
    "df_pm_events.info()"
   ]
  },
  {
   "cell_type": "markdown",
   "metadata": {},
   "source": [
    "Data types look correct.  \n",
    "There are no missing values here."
   ]
  },
  {
   "cell_type": "code",
   "execution_count": 33,
   "metadata": {},
   "outputs": [
    {
     "data": {
      "text/html": [
       "<div>\n",
       "<style scoped>\n",
       "    .dataframe tbody tr th:only-of-type {\n",
       "        vertical-align: middle;\n",
       "    }\n",
       "\n",
       "    .dataframe tbody tr th {\n",
       "        vertical-align: top;\n",
       "    }\n",
       "\n",
       "    .dataframe thead th {\n",
       "        text-align: right;\n",
       "    }\n",
       "</style>\n",
       "<table border=\"1\" class=\"dataframe\">\n",
       "  <thead>\n",
       "    <tr style=\"text-align: right;\">\n",
       "      <th></th>\n",
       "      <th>name</th>\n",
       "      <th>regions</th>\n",
       "      <th>start_dt</th>\n",
       "      <th>finish_dt</th>\n",
       "    </tr>\n",
       "  </thead>\n",
       "  <tbody>\n",
       "    <tr>\n",
       "      <th>6</th>\n",
       "      <td>Chinese New Year Promo</td>\n",
       "      <td>APAC</td>\n",
       "      <td>2020-01-25</td>\n",
       "      <td>2020-02-07</td>\n",
       "    </tr>\n",
       "    <tr>\n",
       "      <th>1</th>\n",
       "      <td>St. Valentine's Day Giveaway</td>\n",
       "      <td>EU, CIS, APAC, N.America</td>\n",
       "      <td>2020-02-14</td>\n",
       "      <td>2020-02-16</td>\n",
       "    </tr>\n",
       "    <tr>\n",
       "      <th>8</th>\n",
       "      <td>International Women's Day Promo</td>\n",
       "      <td>EU, CIS, APAC</td>\n",
       "      <td>2020-03-08</td>\n",
       "      <td>2020-03-10</td>\n",
       "    </tr>\n",
       "    <tr>\n",
       "      <th>2</th>\n",
       "      <td>St. Patric's Day Promo</td>\n",
       "      <td>EU, N.America</td>\n",
       "      <td>2020-03-17</td>\n",
       "      <td>2020-03-19</td>\n",
       "    </tr>\n",
       "    <tr>\n",
       "      <th>3</th>\n",
       "      <td>Easter Promo</td>\n",
       "      <td>EU, CIS, APAC, N.America</td>\n",
       "      <td>2020-04-12</td>\n",
       "      <td>2020-04-19</td>\n",
       "    </tr>\n",
       "    <tr>\n",
       "      <th>7</th>\n",
       "      <td>Labor day (May 1st) Ads Campaign</td>\n",
       "      <td>EU, CIS, APAC</td>\n",
       "      <td>2020-05-01</td>\n",
       "      <td>2020-05-03</td>\n",
       "    </tr>\n",
       "    <tr>\n",
       "      <th>9</th>\n",
       "      <td>Victory Day CIS (May 9th) Event</td>\n",
       "      <td>CIS</td>\n",
       "      <td>2020-05-09</td>\n",
       "      <td>2020-05-11</td>\n",
       "    </tr>\n",
       "    <tr>\n",
       "      <th>11</th>\n",
       "      <td>Dragon Boat Festival Giveaway</td>\n",
       "      <td>APAC</td>\n",
       "      <td>2020-06-25</td>\n",
       "      <td>2020-07-01</td>\n",
       "    </tr>\n",
       "    <tr>\n",
       "      <th>4</th>\n",
       "      <td>4th of July Promo</td>\n",
       "      <td>N.America</td>\n",
       "      <td>2020-07-04</td>\n",
       "      <td>2020-07-11</td>\n",
       "    </tr>\n",
       "    <tr>\n",
       "      <th>13</th>\n",
       "      <td>Chinese Moon Festival</td>\n",
       "      <td>APAC</td>\n",
       "      <td>2020-10-01</td>\n",
       "      <td>2020-10-07</td>\n",
       "    </tr>\n",
       "    <tr>\n",
       "      <th>12</th>\n",
       "      <td>Single's Day Gift Promo</td>\n",
       "      <td>APAC</td>\n",
       "      <td>2020-11-11</td>\n",
       "      <td>2020-11-12</td>\n",
       "    </tr>\n",
       "    <tr>\n",
       "      <th>5</th>\n",
       "      <td>Black Friday Ads Campaign</td>\n",
       "      <td>EU, CIS, APAC, N.America</td>\n",
       "      <td>2020-11-26</td>\n",
       "      <td>2020-12-01</td>\n",
       "    </tr>\n",
       "    <tr>\n",
       "      <th>0</th>\n",
       "      <td>Christmas&amp;New Year Promo</td>\n",
       "      <td>EU, N.America</td>\n",
       "      <td>2020-12-25</td>\n",
       "      <td>2021-01-03</td>\n",
       "    </tr>\n",
       "    <tr>\n",
       "      <th>10</th>\n",
       "      <td>CIS New Year Gift Lottery</td>\n",
       "      <td>CIS</td>\n",
       "      <td>2020-12-30</td>\n",
       "      <td>2021-01-07</td>\n",
       "    </tr>\n",
       "  </tbody>\n",
       "</table>\n",
       "</div>"
      ],
      "text/plain": [
       "                                name                   regions   start_dt  \\\n",
       "6             Chinese New Year Promo                      APAC 2020-01-25   \n",
       "1       St. Valentine's Day Giveaway  EU, CIS, APAC, N.America 2020-02-14   \n",
       "8    International Women's Day Promo             EU, CIS, APAC 2020-03-08   \n",
       "2             St. Patric's Day Promo             EU, N.America 2020-03-17   \n",
       "3                       Easter Promo  EU, CIS, APAC, N.America 2020-04-12   \n",
       "7   Labor day (May 1st) Ads Campaign             EU, CIS, APAC 2020-05-01   \n",
       "9    Victory Day CIS (May 9th) Event                       CIS 2020-05-09   \n",
       "11     Dragon Boat Festival Giveaway                      APAC 2020-06-25   \n",
       "4                  4th of July Promo                 N.America 2020-07-04   \n",
       "13             Chinese Moon Festival                      APAC 2020-10-01   \n",
       "12           Single's Day Gift Promo                      APAC 2020-11-11   \n",
       "5          Black Friday Ads Campaign  EU, CIS, APAC, N.America 2020-11-26   \n",
       "0           Christmas&New Year Promo             EU, N.America 2020-12-25   \n",
       "10         CIS New Year Gift Lottery                       CIS 2020-12-30   \n",
       "\n",
       "    finish_dt  \n",
       "6  2020-02-07  \n",
       "1  2020-02-16  \n",
       "8  2020-03-10  \n",
       "2  2020-03-19  \n",
       "3  2020-04-19  \n",
       "7  2020-05-03  \n",
       "9  2020-05-11  \n",
       "11 2020-07-01  \n",
       "4  2020-07-11  \n",
       "13 2020-10-07  \n",
       "12 2020-11-12  \n",
       "5  2020-12-01  \n",
       "0  2021-01-03  \n",
       "10 2021-01-07  "
      ]
     },
     "execution_count": 33,
     "metadata": {},
     "output_type": "execute_result"
    }
   ],
   "source": [
    "df_pm_events.sort_values('start_dt')"
   ]
  },
  {
   "cell_type": "markdown",
   "metadata": {},
   "source": [
    "Black Friday Ads Campaign finished before we launching AB test.  \n",
    "BUT Christmas&New Year Promo started 5 days before we finished AB test.  \n",
    "It could impact on users behavior during testing.  "
   ]
  },
  {
   "cell_type": "markdown",
   "metadata": {},
   "source": [
    "[Back to the Table of Contents](#contents)"
   ]
  },
  {
   "cell_type": "markdown",
   "metadata": {},
   "source": [
    "#### Conclusion <a class=\"anchor\" id=\"chapter9\"></a>"
   ]
  },
  {
   "cell_type": "markdown",
   "metadata": {},
   "source": [
    "Data sets were studied.  \n",
    "I found that: \n",
    "- there are no missing values or duplicates;\n",
    "- data need to be filtered;\n",
    "- there is marketing events during AB testing."
   ]
  },
  {
   "cell_type": "markdown",
   "metadata": {},
   "source": [
    "[Back to the Table of Contents](#contents)"
   ]
  },
  {
   "cell_type": "markdown",
   "metadata": {},
   "source": [
    "### 3. Data preprocessing <a class=\"anchor\" id=\"chapter10\"></a>"
   ]
  },
  {
   "cell_type": "markdown",
   "metadata": {},
   "source": [
    "#### 3.1 Filtering data <a class=\"anchor\" id=\"chapter11\"></a>"
   ]
  },
  {
   "cell_type": "markdown",
   "metadata": {},
   "source": [
    "According our task we need to select users from EU only:"
   ]
  },
  {
   "cell_type": "code",
   "execution_count": 34,
   "metadata": {},
   "outputs": [],
   "source": [
    "#selecting data\n",
    "df_filt_users = df_new_users.query('region == \"EU\"').copy()"
   ]
  },
  {
   "cell_type": "code",
   "execution_count": 35,
   "metadata": {},
   "outputs": [
    {
     "name": "stdout",
     "output_type": "stream",
     "text": [
      "Number of users in filtered users table: 43396\n"
     ]
    }
   ],
   "source": [
    "print('Number of users in filtered users table:', df_filt_users.user_id.nunique())"
   ]
  },
  {
   "cell_type": "markdown",
   "metadata": {},
   "source": [
    "Now let's select users who was part of interface_eu_test:"
   ]
  },
  {
   "cell_type": "code",
   "execution_count": 36,
   "metadata": {},
   "outputs": [],
   "source": [
    "#selecting data\n",
    "df_filt_participants = df_participants.query('ab_test == \"interface_eu_test\"').copy()"
   ]
  },
  {
   "cell_type": "code",
   "execution_count": 37,
   "metadata": {},
   "outputs": [
    {
     "name": "stdout",
     "output_type": "stream",
     "text": [
      "Number of users in filtered participants table: 10850\n"
     ]
    }
   ],
   "source": [
    "print('Number of users in filtered participants table:', df_filt_participants.user_id.nunique())"
   ]
  },
  {
   "cell_type": "markdown",
   "metadata": {},
   "source": [
    "Data were filtered."
   ]
  },
  {
   "cell_type": "markdown",
   "metadata": {},
   "source": [
    "[Back to the Table of Contents](#contents)"
   ]
  },
  {
   "cell_type": "markdown",
   "metadata": {},
   "source": [
    "#### 3.2 Merging tables <a class=\"anchor\" id=\"chapter12\"></a>"
   ]
  },
  {
   "cell_type": "markdown",
   "metadata": {},
   "source": [
    "Now we can merge tables:"
   ]
  },
  {
   "cell_type": "code",
   "execution_count": 38,
   "metadata": {},
   "outputs": [],
   "source": [
    "#merging tables\n",
    "df_ab_test = pd.merge(left=df_filt_participants, right=df_filt_users, how='left',on='user_id')\n",
    "df_ab_test_users = pd.merge(left=df_ab_test, right=df_events, how='left',on='user_id')\n",
    "df_all_users = pd.merge(left=df_filt_users, right=df_events, how='left',on='user_id')"
   ]
  },
  {
   "cell_type": "markdown",
   "metadata": {},
   "source": [
    "Tables were merged.  \n",
    "- `df_ab_test_users` contains all information about users from EU who were part of AB test;\n",
    "- `df_all_users` contains information about all users from EU."
   ]
  },
  {
   "cell_type": "markdown",
   "metadata": {},
   "source": [
    "[Back to the Table of Contents](#contents)"
   ]
  },
  {
   "cell_type": "markdown",
   "metadata": {},
   "source": [
    "#### Conclusion <a class=\"anchor\" id=\"chapter13\"></a>"
   ]
  },
  {
   "cell_type": "markdown",
   "metadata": {},
   "source": [
    "In this step:\n",
    "- data was filtered;\n",
    "- tables were merged."
   ]
  },
  {
   "cell_type": "markdown",
   "metadata": {},
   "source": [
    "[Back to the Table of Contents](#contents)"
   ]
  },
  {
   "cell_type": "markdown",
   "metadata": {},
   "source": [
    "### 4. EDA <a class=\"anchor\" id=\"chapter14\"></a>"
   ]
  },
  {
   "cell_type": "markdown",
   "metadata": {},
   "source": [
    "### 4.1 Studying the filtered data <a class=\"anchor\" id=\"chapter15\"></a>"
   ]
  },
  {
   "cell_type": "markdown",
   "metadata": {},
   "source": [
    "#### General information about all users from EU <a class=\"anchor\" id=\"chapter18\"></a>"
   ]
  },
  {
   "cell_type": "code",
   "execution_count": 39,
   "metadata": {},
   "outputs": [
    {
     "name": "stdout",
     "output_type": "stream",
     "text": [
      "Number of users from EU: 43396\n",
      "Number of action: 314777\n"
     ]
    }
   ],
   "source": [
    "print('Number of users from EU:', df_all_users.user_id.nunique())\n",
    "print('Number of action:', len(df_all_users))"
   ]
  },
  {
   "cell_type": "markdown",
   "metadata": {},
   "source": [
    "[Back to the Table of Contents](#contents)"
   ]
  },
  {
   "cell_type": "markdown",
   "metadata": {},
   "source": [
    "#### What period of time does the data cover? <a class=\"anchor\" id=\"chapter19\"></a>"
   ]
  },
  {
   "cell_type": "markdown",
   "metadata": {},
   "source": [
    "Let's check if dates are correspond to the technical description for all users from EU:"
   ]
  },
  {
   "cell_type": "code",
   "execution_count": 40,
   "metadata": {},
   "outputs": [
    {
     "name": "stdout",
     "output_type": "stream",
     "text": [
      "First sign-up date: 2020-12-07 00:00:00\n",
      "Last sign-up date: 2020-12-23 00:00:00\n"
     ]
    }
   ],
   "source": [
    "print(\"First sign-up date:\", df_all_users.first_date.min())\n",
    "print(\"Last sign-up date:\", df_all_users.first_date.max())"
   ]
  },
  {
   "cell_type": "code",
   "execution_count": 41,
   "metadata": {},
   "outputs": [
    {
     "name": "stdout",
     "output_type": "stream",
     "text": [
      "First action date: 2020-12-07 00:00:33\n",
      "Last action date: 2020-12-30 23:02:44\n"
     ]
    }
   ],
   "source": [
    "print(\"First action date:\", df_all_users.event_dt.min())\n",
    "print(\"Last action date:\", df_all_users.event_dt.max())"
   ]
  },
  {
   "cell_type": "markdown",
   "metadata": {},
   "source": [
    "Let's check if we have equally complete data for the entire period:"
   ]
  },
  {
   "cell_type": "code",
   "execution_count": 42,
   "metadata": {},
   "outputs": [
    {
     "data": {
      "image/png": "[encoded data removed]",
      "text/plain": [
       "<Figure size 864x432 with 1 Axes>"
      ]
     },
     "metadata": {
      "needs_background": "light"
     },
     "output_type": "display_data"
    }
   ],
   "source": [
    "#plotting a histogram\n",
    "plt.figure(figsize=(12,6))\n",
    "df_all_users.event_dt.hist(bins=100)\n",
    "plt.xlabel('Date', fontsize=12)\n",
    "plt.ylabel('Frequency', fontsize=12)\n",
    "plt.title('Frequency of the user actions by date', fontsize=16)\n",
    "plt.show()"
   ]
  },
  {
   "cell_type": "markdown",
   "metadata": {},
   "source": [
    "Histogram shows us that the number of user action is unevenly distributed by date.  \n",
    "We can see number of action increasing till the Christmas eve, that's logic, people looking for presents during these dates.  \n",
    "Than we can see that almost no one did any action during Christmas eve, then number of action increase a bit and sharp decrease 30 of December (probably users were too busy with preparation to the New Year party).  \n",
    "Christmas&New Year Promo event that started 25 of December didn't affect to the number of orders."
   ]
  },
  {
   "cell_type": "markdown",
   "metadata": {},
   "source": [
    "[Back to the Table of Contents](#contents)"
   ]
  },
  {
   "cell_type": "markdown",
   "metadata": {},
   "source": [
    "#### How many events are in the logs? <a class=\"anchor\" id=\"chapter20\"></a>"
   ]
  },
  {
   "cell_type": "code",
   "execution_count": 43,
   "metadata": {},
   "outputs": [
    {
     "data": {
      "text/plain": [
       "login           134643\n",
       "product_page     88888\n",
       "purchase         46687\n",
       "product_cart     44559\n",
       "Name: event_name, dtype: int64"
      ]
     },
     "execution_count": 43,
     "metadata": {},
     "output_type": "execute_result"
    }
   ],
   "source": [
    "df_all_users.event_name.value_counts()"
   ]
  },
  {
   "cell_type": "markdown",
   "metadata": {},
   "source": [
    "We still have 4 events here:\n",
    "- login\n",
    "- product_page\n",
    "- product_cart\n",
    "- purchase"
   ]
  },
  {
   "cell_type": "markdown",
   "metadata": {},
   "source": [
    "[Back to the Table of Contents](#contents)"
   ]
  },
  {
   "cell_type": "markdown",
   "metadata": {},
   "source": [
    "#### What's the average number of events per user? <a class=\"anchor\" id=\"chapter21\"></a>"
   ]
  },
  {
   "cell_type": "code",
   "execution_count": 44,
   "metadata": {},
   "outputs": [
    {
     "name": "stdout",
     "output_type": "stream",
     "text": [
      "Average number of events per users: 7.25\n"
     ]
    }
   ],
   "source": [
    "#calculating average number of action per user\n",
    "avg_n_action_ab = len(df_all_users)/df_all_users.user_id.nunique()\n",
    "print('Average number of events per users: {:.2f}'.format(avg_n_action_ab))"
   ]
  },
  {
   "cell_type": "markdown",
   "metadata": {},
   "source": [
    "In average each user did 7.25 actions during considered period."
   ]
  },
  {
   "cell_type": "markdown",
   "metadata": {},
   "source": [
    "[Back to the Table of Contents](#contents)"
   ]
  },
  {
   "cell_type": "markdown",
   "metadata": {},
   "source": [
    "#### Checking additional informations about users <a class=\"anchor\" id=\"chapter22\"></a>"
   ]
  },
  {
   "cell_type": "code",
   "execution_count": 45,
   "metadata": {},
   "outputs": [
    {
     "data": {
      "image/png": "[encoded data removed]",
      "text/plain": [
       "<Figure size 864x432 with 1 Axes>"
      ]
     },
     "metadata": {
      "needs_background": "light"
     },
     "output_type": "display_data"
    }
   ],
   "source": [
    "#studing devices\n",
    "#making a graph\n",
    "plt.figure(figsize=(12,6)) \n",
    "ax = sns.countplot(x='device', data=df_all_users, palette = 'tab10')\n",
    "ax.set_title('Which devices users used?', fontsize=14)\n",
    "ax.set_ylabel('Number of users', fontsize=12)    \n",
    "ax.set_xlabel('Device', fontsize=12)\n",
    "plt.show()"
   ]
  },
  {
   "cell_type": "markdown",
   "metadata": {},
   "source": [
    "Most of the users use android device, then PC, iPhone and Mac."
   ]
  },
  {
   "cell_type": "code",
   "execution_count": 46,
   "metadata": {},
   "outputs": [
    {
     "name": "stdout",
     "output_type": "stream",
     "text": [
      "Number of purchase: 46687\n",
      "Number of users who did purchase: 15155\n",
      "Revenue: 1111978.13\n",
      "Average revenue per user: 73.37\n"
     ]
    }
   ],
   "source": [
    "#styding revenue\n",
    "n_purchase = df_all_users.query('details > 0')['user_id'].count()\n",
    "n_users_purchase = df_all_users.query('details > 0')['user_id'].nunique()\n",
    "\n",
    "print('Number of purchase:', n_purchase)\n",
    "print('Number of users who did purchase:', n_users_purchase)\n",
    "print('Revenue: {:.2f}'.format(df_all_users.details.sum()))\n",
    "print('Average revenue per user: {:.2f}'.format(df_all_users.details.sum()/n_users_purchase))"
   ]
  },
  {
   "cell_type": "markdown",
   "metadata": {},
   "source": [
    "15155 users from EU did 46687 purchases, revenue was 1111978.13, ARPU is 73.37."
   ]
  },
  {
   "cell_type": "markdown",
   "metadata": {},
   "source": [
    "[Back to the Table of Contents](#contents)"
   ]
  },
  {
   "cell_type": "markdown",
   "metadata": {},
   "source": [
    "#### Checking experimental groups <a class=\"anchor\" id=\"chapter23\"></a>"
   ]
  },
  {
   "cell_type": "code",
   "execution_count": 47,
   "metadata": {},
   "outputs": [
    {
     "data": {
      "text/html": [
       "<style  type=\"text/css\" >\n",
       "</style><table id=\"T_cd6c5272_4245_11eb_b4c9_8c8590358123\" ><thead>    <tr>        <th class=\"col_heading level0 col0\" >group</th>        <th class=\"col_heading level0 col1\" >n_events</th>        <th class=\"col_heading level0 col2\" >n_users</th>    </tr></thead><tbody>\n",
       "                <tr>\n",
       "                                <td id=\"T_cd6c5272_4245_11eb_b4c9_8c8590358123row0_col0\" class=\"data row0 col0\" >A</td>\n",
       "                        <td id=\"T_cd6c5272_4245_11eb_b4c9_8c8590358123row0_col1\" class=\"data row0 col1\" >40078</td>\n",
       "                        <td id=\"T_cd6c5272_4245_11eb_b4c9_8c8590358123row0_col2\" class=\"data row0 col2\" >5467</td>\n",
       "            </tr>\n",
       "            <tr>\n",
       "                                <td id=\"T_cd6c5272_4245_11eb_b4c9_8c8590358123row1_col0\" class=\"data row1 col0\" >B</td>\n",
       "                        <td id=\"T_cd6c5272_4245_11eb_b4c9_8c8590358123row1_col1\" class=\"data row1 col1\" >38851</td>\n",
       "                        <td id=\"T_cd6c5272_4245_11eb_b4c9_8c8590358123row1_col2\" class=\"data row1 col2\" >5383</td>\n",
       "            </tr>\n",
       "    </tbody></table>"
      ],
      "text/plain": [
       "<pandas.io.formats.style.Styler at 0x1a1deb4710>"
      ]
     },
     "execution_count": 47,
     "metadata": {},
     "output_type": "execute_result"
    }
   ],
   "source": [
    "#checking experimental groups\n",
    "n_events_group = df_ab_test_users.pivot_table(index='group', values='user_id', aggfunc=('count', 'nunique')).reset_index()\n",
    "n_events_group.columns = ['group', 'n_events', 'n_users']\n",
    "n_events_group.style.hide_index()"
   ]
  },
  {
   "cell_type": "code",
   "execution_count": 48,
   "metadata": {},
   "outputs": [
    {
     "data": {
      "text/plain": [
       "EU    78929\n",
       "Name: region, dtype: int64"
      ]
     },
     "execution_count": 48,
     "metadata": {},
     "output_type": "execute_result"
    }
   ],
   "source": [
    "#checking if all users in experimental group from EU\n",
    "df_ab_test_users.region.value_counts()"
   ]
  },
  {
   "cell_type": "markdown",
   "metadata": {},
   "source": [
    "We have 2 experimental groups with:\n",
    "- 40078 entries made by 5467 users in control group A;\n",
    "- 38851 entries made by 5383 users in group B with new payment funnel."
   ]
  },
  {
   "cell_type": "markdown",
   "metadata": {},
   "source": [
    "[Back to the Table of Contents](#contents)"
   ]
  },
  {
   "cell_type": "markdown",
   "metadata": {},
   "source": [
    "#### Conclusion <a class=\"anchor\" id=\"chapter24\"></a>  \n",
    "\n",
    "Filtered data fro all EU users was stydied.  \n",
    "\n",
    "- number of actions: 314777;\n",
    "- number of users: 43396;\n",
    "- average number of events per user is: 7.25;\n",
    "\n",
    "First sign-up date: 2020-12-07  \n",
    "Last sign-up date: 2020-12-23  \n",
    "First action date: 2020-12-07  \n",
    "Last action date: 2020-12-30  \n",
    "\n",
    "- most of the users use android device, then PC, iPhone and Mac;\n",
    "- number of purchase: 46687\n",
    "- number of users who did purchase: 15155\n",
    "- profit: 1111978.13\n",
    "- average profit per user: 73.37."
   ]
  },
  {
   "cell_type": "markdown",
   "metadata": {},
   "source": [
    "[Back to the Table of Contents](#contents)"
   ]
  },
  {
   "cell_type": "markdown",
   "metadata": {},
   "source": [
    "### 4.2 Studying the event funnel <a class=\"anchor\" id=\"chapter16\"></a>"
   ]
  },
  {
   "cell_type": "markdown",
   "metadata": {},
   "source": [
    "#### What is the frequency of occurrence events? <a class=\"anchor\" id=\"chapter25\"></a>"
   ]
  },
  {
   "cell_type": "markdown",
   "metadata": {},
   "source": [
    "Let's see what events are in the logs and their frequency of occurrence:"
   ]
  },
  {
   "cell_type": "code",
   "execution_count": 49,
   "metadata": {},
   "outputs": [
    {
     "data": {
      "image/png": "[encoded data removed]",
      "text/plain": [
       "<Figure size 1008x576 with 1 Axes>"
      ]
     },
     "metadata": {
      "needs_background": "light"
     },
     "output_type": "display_data"
    }
   ],
   "source": [
    "#plotting a graph\n",
    "colors = ['#fdcb6e', '#0984e3', '#fd79a8', '#00b894', '#a29bfe']\n",
    "ax = df_all_users.event_name.value_counts().plot(kind='bar', color=colors, figsize=(14,8), width=.5)\n",
    "#putting text on the graph\n",
    "for p in ax.patches:\n",
    "    ax.annotate(format(p.get_height(), '.0f'), \n",
    "                   (p.get_x() + p.get_width() / 2., p.get_height()), \n",
    "                   ha = 'center', va = 'center', \n",
    "                   xytext = (0, 11), \n",
    "                   textcoords = 'offset points', size=12)\n",
    "#creating graph captions\n",
    "plt.gca().set_xticklabels(df_all_users.event_name.value_counts().keys(), rotation=45, fontsize=12)\n",
    "plt.xlabel('Event name', fontsize=12)\n",
    "plt.ylabel('Number of action', fontsize=12)\n",
    "plt.title('Number of actions by each event', fontsize=16)\n",
    "plt.ylim(0, 150000)\n",
    "plt.show()"
   ]
  },
  {
   "cell_type": "markdown",
   "metadata": {},
   "source": [
    "The most often users login.  \n",
    "Product page appear 1.5 times more rare.  \n",
    "As we find on the previous step probably there is fast link for purchase, it because we have more people who bought something then visited product cart."
   ]
  },
  {
   "cell_type": "markdown",
   "metadata": {},
   "source": [
    "[Back to the Table of Contents](#contents)"
   ]
  },
  {
   "cell_type": "markdown",
   "metadata": {},
   "source": [
    "#### Calculating proportion of users who performed the action at least once <a class=\"anchor\" id=\"chapter26\"></a>"
   ]
  },
  {
   "cell_type": "code",
   "execution_count": 50,
   "metadata": {},
   "outputs": [
    {
     "data": {
      "text/html": [
       "<style  type=\"text/css\" >\n",
       "</style><table id=\"T_cdc76748_4245_11eb_b4c9_8c8590358123\" ><thead>    <tr>        <th class=\"col_heading level0 col0\" >event_name</th>        <th class=\"col_heading level0 col1\" >n_users</th>        <th class=\"col_heading level0 col2\" >share</th>    </tr></thead><tbody>\n",
       "                <tr>\n",
       "                                <td id=\"T_cdc76748_4245_11eb_b4c9_8c8590358123row0_col0\" class=\"data row0 col0\" >login</td>\n",
       "                        <td id=\"T_cdc76748_4245_11eb_b4c9_8c8590358123row0_col1\" class=\"data row0 col1\" >43389</td>\n",
       "                        <td id=\"T_cdc76748_4245_11eb_b4c9_8c8590358123row0_col2\" class=\"data row0 col2\" >99.98%</td>\n",
       "            </tr>\n",
       "            <tr>\n",
       "                                <td id=\"T_cdc76748_4245_11eb_b4c9_8c8590358123row1_col0\" class=\"data row1 col0\" >product_page</td>\n",
       "                        <td id=\"T_cdc76748_4245_11eb_b4c9_8c8590358123row1_col1\" class=\"data row1 col1\" >28724</td>\n",
       "                        <td id=\"T_cdc76748_4245_11eb_b4c9_8c8590358123row1_col2\" class=\"data row1 col2\" >66.19%</td>\n",
       "            </tr>\n",
       "            <tr>\n",
       "                                <td id=\"T_cdc76748_4245_11eb_b4c9_8c8590358123row2_col0\" class=\"data row2 col0\" >purchase</td>\n",
       "                        <td id=\"T_cdc76748_4245_11eb_b4c9_8c8590358123row2_col1\" class=\"data row2 col1\" >15155</td>\n",
       "                        <td id=\"T_cdc76748_4245_11eb_b4c9_8c8590358123row2_col2\" class=\"data row2 col2\" >34.92%</td>\n",
       "            </tr>\n",
       "            <tr>\n",
       "                                <td id=\"T_cdc76748_4245_11eb_b4c9_8c8590358123row3_col0\" class=\"data row3 col0\" >product_cart</td>\n",
       "                        <td id=\"T_cdc76748_4245_11eb_b4c9_8c8590358123row3_col1\" class=\"data row3 col1\" >14282</td>\n",
       "                        <td id=\"T_cdc76748_4245_11eb_b4c9_8c8590358123row3_col2\" class=\"data row3 col2\" >32.91%</td>\n",
       "            </tr>\n",
       "    </tbody></table>"
      ],
      "text/plain": [
       "<pandas.io.formats.style.Styler at 0x1a1e4c5190>"
      ]
     },
     "execution_count": 50,
     "metadata": {},
     "output_type": "execute_result"
    }
   ],
   "source": [
    "#making pivot table with number of users per each event\n",
    "share_users = df_all_users.pivot_table(index='event_name', values='user_id',\n",
    "                                       aggfunc=lambda x: x.nunique()).sort_values('user_id',\n",
    "                                                                                  ascending=False).reset_index()\n",
    "share_users.columns = ['event_name', 'n_users']\n",
    "#calculating the share of users who performed the action at least once\n",
    "share_users['share'] = share_users['n_users']/df_all_users.user_id.nunique()\n",
    "share_users.style.format({'share': \"{:.2%}\"}).hide_index()"
   ]
  },
  {
   "cell_type": "markdown",
   "metadata": {},
   "source": [
    "- almost 100% of users login;\n",
    "- 66% of all users check the product page; \n",
    "- 35% of users did purchase; \n",
    "- 33% of users add smth to cart."
   ]
  },
  {
   "cell_type": "markdown",
   "metadata": {},
   "source": [
    "[Back to the Table of Contents](#contents)"
   ]
  },
  {
   "cell_type": "markdown",
   "metadata": {},
   "source": [
    "#### What order the actions took place? <a class=\"anchor\" id=\"chapter27\"></a>"
   ]
  },
  {
   "cell_type": "markdown",
   "metadata": {},
   "source": [
    "Let's check in what order the actions took place. Are all of them part of a single sequence? Do we need to take them into account when calculating the funnel?"
   ]
  },
  {
   "cell_type": "code",
   "execution_count": 51,
   "metadata": {},
   "outputs": [
    {
     "data": {
      "text/plain": [
       "array(['product_page', 'login', 'product_cart', 'purchase'], dtype=object)"
      ]
     },
     "execution_count": 51,
     "metadata": {},
     "output_type": "execute_result"
    }
   ],
   "source": [
    "#checking events names\n",
    "df_all_users.event_name.unique()"
   ]
  },
  {
   "cell_type": "markdown",
   "metadata": {},
   "source": [
    "If we analyze the sales funnel, first we need to understand which stages in particular.   \n",
    "We interesting how users reached the purchase stage.  \n",
    "`product_page → product_card → purchase`   \n",
    "This is sequence of steps for making purchase.  \n",
    "All events from log are part of the process, except 'login' stage.  \n",
    "This event isn't part of one logical chain (making purchase), and could easily take place in the reverse order."
   ]
  },
  {
   "cell_type": "markdown",
   "metadata": {},
   "source": [
    "[Back to the Table of Contents](#contents)"
   ]
  },
  {
   "cell_type": "markdown",
   "metadata": {},
   "source": [
    "#### First/last event for each user <a class=\"anchor\" id=\"chapter28\"></a>"
   ]
  },
  {
   "cell_type": "markdown",
   "metadata": {},
   "source": [
    "Let's check what was the first event for each user:"
   ]
  },
  {
   "cell_type": "code",
   "execution_count": 52,
   "metadata": {},
   "outputs": [
    {
     "data": {
      "text/plain": [
       "login           29430\n",
       "purchase         6664\n",
       "product_page     4914\n",
       "product_cart     2388\n",
       "Name: event_name, dtype: int64"
      ]
     },
     "execution_count": 52,
     "metadata": {},
     "output_type": "execute_result"
    }
   ],
   "source": [
    "#checking first user's event\n",
    "first_act = df_all_users.sort_values('event_dt').groupby(['user_id']).agg({'event_name': 'first'}).reset_index()\n",
    "first_act.columns = ['user_id', 'event_name']\n",
    "first_act.event_name.value_counts()"
   ]
  },
  {
   "cell_type": "markdown",
   "metadata": {},
   "source": [
    "For most of the users first event is login (that obvious with almost 100% logged users).  \n",
    "6664 users first event was purchase (there is definitely fast purchase button).  \n",
    "4914 users first event was product page.  \n",
    "for 2388 users - product cart.  \n",
    "Let's check users last event:"
   ]
  },
  {
   "cell_type": "code",
   "execution_count": 53,
   "metadata": {},
   "outputs": [
    {
     "data": {
      "text/plain": [
       "product_page    18542\n",
       "login           13804\n",
       "product_cart     7924\n",
       "purchase         3126\n",
       "Name: event_name, dtype: int64"
      ]
     },
     "execution_count": 53,
     "metadata": {},
     "output_type": "execute_result"
    }
   ],
   "source": [
    "#checking last user's event\n",
    "first_act = df_all_users.sort_values('event_dt').groupby(['user_id']).agg({'event_name': 'last'}).reset_index()\n",
    "first_act.columns = ['user_id', 'event_name']\n",
    "first_act.event_name.value_counts()"
   ]
  },
  {
   "cell_type": "markdown",
   "metadata": {},
   "source": [
    "Looks like we lost most of users on product page event.  \n",
    "13804 users did not move forward from the login event.  \n",
    "And 7924 users stopped after they put product to the cart."
   ]
  },
  {
   "cell_type": "markdown",
   "metadata": {},
   "source": [
    "[Back to the Table of Contents](#contents)"
   ]
  },
  {
   "cell_type": "markdown",
   "metadata": {},
   "source": [
    "#### What share of users make the entire journey from their first event to payment? <a class=\"anchor\" id=\"chapter29\"></a>"
   ]
  },
  {
   "cell_type": "code",
   "execution_count": 54,
   "metadata": {},
   "outputs": [
    {
     "name": "stdout",
     "output_type": "stream",
     "text": [
      "Share of users make the entire journey from their first event to payment: 7.59%\n"
     ]
    }
   ],
   "source": [
    "#selecting users who were in each stage\n",
    "event_1_users = df_all_users.query('event_name == \"product_page\"').user_id\n",
    "event_2_users = df_all_users.query('user_id in@event_1_users & event_name == \"product_cart\"').user_id\n",
    "event_3_users = df_all_users.query('user_id in@event_2_users & event_name == \"purchase\"').user_id.nunique()\n",
    "#calculating share of these users\n",
    "all_events_users = event_3_users/df_all_users.user_id.nunique()\n",
    "print('Share of users make the entire journey from their first event to payment: {:.2%}'.format(all_events_users))"
   ]
  },
  {
   "cell_type": "markdown",
   "metadata": {},
   "source": [
    "Only 8% of all users make entire journey from their first event to payment and it far from share of users who do purchase 34.92%.  \n",
    "Therefore I don't see a reason to build a funnel to find the share of users that proceed from each stage to the next.  \n",
    "For comparing results of our AB test I will use a share from all users on each step. "
   ]
  },
  {
   "cell_type": "markdown",
   "metadata": {},
   "source": [
    "#### Conclusion <a class=\"anchor\" id=\"chapter30\"></a>  \n",
    "\n",
    "In this step I found:  \n",
    "\n",
    "- almost 100% of users login;\n",
    "- 66% of all users check the product page;\n",
    "- 35% of users did purchase;\n",
    "- 33% of users add smth to cart.\n",
    "  \n",
    "  \n",
    "- Our funnel is:  \n",
    "`product_page → product_card → purchase`  \n",
    "  \n",
    "  \n",
    "- We lost most of users on product page event.\n",
    "- 7.6% of all users make the entire journey from their first event to payment."
   ]
  },
  {
   "cell_type": "markdown",
   "metadata": {},
   "source": [
    "[Back to the Table of Contents](#contents)"
   ]
  },
  {
   "cell_type": "markdown",
   "metadata": {},
   "source": [
    "### 5. Evaluate the A/B test results <a class=\"anchor\" id=\"chapter17\"></a>"
   ]
  },
  {
   "cell_type": "markdown",
   "metadata": {},
   "source": [
    "We have 15% of all users from EU in AB test groups.   \n",
    "Let's study information about these users:"
   ]
  },
  {
   "cell_type": "markdown",
   "metadata": {},
   "source": [
    "#### 5.1 Studying the general information of results of the experiment <a class=\"anchor\" id=\"chapter31\"></a>  "
   ]
  },
  {
   "cell_type": "code",
   "execution_count": 55,
   "metadata": {},
   "outputs": [
    {
     "data": {
      "text/html": [
       "<style  type=\"text/css\" >\n",
       "</style><table id=\"T_ce70289c_4245_11eb_b4c9_8c8590358123\" ><thead>    <tr>        <th class=\"col_heading level0 col0\" >group</th>        <th class=\"col_heading level0 col1\" >n_events</th>        <th class=\"col_heading level0 col2\" >n_users</th>        <th class=\"col_heading level0 col3\" >share</th>    </tr></thead><tbody>\n",
       "                <tr>\n",
       "                                <td id=\"T_ce70289c_4245_11eb_b4c9_8c8590358123row0_col0\" class=\"data row0 col0\" >A</td>\n",
       "                        <td id=\"T_ce70289c_4245_11eb_b4c9_8c8590358123row0_col1\" class=\"data row0 col1\" >40078</td>\n",
       "                        <td id=\"T_ce70289c_4245_11eb_b4c9_8c8590358123row0_col2\" class=\"data row0 col2\" >5467</td>\n",
       "                        <td id=\"T_ce70289c_4245_11eb_b4c9_8c8590358123row0_col3\" class=\"data row0 col3\" >50.39%</td>\n",
       "            </tr>\n",
       "            <tr>\n",
       "                                <td id=\"T_ce70289c_4245_11eb_b4c9_8c8590358123row1_col0\" class=\"data row1 col0\" >B</td>\n",
       "                        <td id=\"T_ce70289c_4245_11eb_b4c9_8c8590358123row1_col1\" class=\"data row1 col1\" >38851</td>\n",
       "                        <td id=\"T_ce70289c_4245_11eb_b4c9_8c8590358123row1_col2\" class=\"data row1 col2\" >5383</td>\n",
       "                        <td id=\"T_ce70289c_4245_11eb_b4c9_8c8590358123row1_col3\" class=\"data row1 col3\" >49.61%</td>\n",
       "            </tr>\n",
       "    </tbody></table>"
      ],
      "text/plain": [
       "<pandas.io.formats.style.Styler at 0x1a1ff2ce10>"
      ]
     },
     "execution_count": 55,
     "metadata": {},
     "output_type": "execute_result"
    }
   ],
   "source": [
    "#checking experimental groups\n",
    "n_events_group = df_ab_test_users.pivot_table(index='group', values='user_id', aggfunc=('count', 'nunique')).reset_index()\n",
    "n_events_group.columns = ['group', 'n_events', 'n_users']\n",
    "n_events_group['share'] = n_events_group['n_users']/df_ab_test_users.user_id.nunique()\n",
    "#calculating share\n",
    "n_events_group.style.format({'share': \"{:.2%}\"}).hide_index()"
   ]
  },
  {
   "cell_type": "markdown",
   "metadata": {},
   "source": [
    "We have 2 experimental groups with:\n",
    "- 40078 entries made by 5467 users in control group A, 50.4% of all participants of the AB test;\n",
    "- 38851 entries made by 5383 users in group B with new payment funnel, 49.6% of all participants of the AB test."
   ]
  },
  {
   "cell_type": "markdown",
   "metadata": {},
   "source": [
    "For studying the **general information** by each group let's split data by groups:"
   ]
  },
  {
   "cell_type": "code",
   "execution_count": 56,
   "metadata": {},
   "outputs": [],
   "source": [
    "#splitting data\n",
    "group_A = df_ab_test_users.query('group == \"A\"').copy()\n",
    "group_B = df_ab_test_users.query('group == \"B\"').copy()"
   ]
  },
  {
   "cell_type": "markdown",
   "metadata": {},
   "source": [
    "Let's check if we have equally complete data for the entire period by groups:"
   ]
  },
  {
   "cell_type": "code",
   "execution_count": 57,
   "metadata": {},
   "outputs": [
    {
     "data": {
      "image/png": "[encoded data removed]",
      "text/plain": [
       "<Figure size 864x432 with 1 Axes>"
      ]
     },
     "metadata": {
      "needs_background": "light"
     },
     "output_type": "display_data"
    }
   ],
   "source": [
    "#plotting a histogram\n",
    "plt.figure(figsize=(12,6))\n",
    "group_A.event_dt.hist(bins=100)\n",
    "group_B.event_dt.hist(bins=100, alpha=0.5)\n",
    "plt.xlabel('Date', fontsize=12)\n",
    "plt.ylabel('Frequency', fontsize=12)\n",
    "plt.title('Frequency of the user actions by date', fontsize=16)\n",
    "plt.show()"
   ]
  },
  {
   "cell_type": "markdown",
   "metadata": {},
   "source": [
    "Histogram shows us that the number of user action is unevenly distributed by date as same as for the all users from EU region.  \n",
    "Distribution look the same for A and B groups.  \n",
    "We can see number of action increasing till the Christmas eve, that's logic, people looking for presents during these dates.\n",
    "Than we can see that almost no one did any action during Christmas eve, then number of action increase a bit and sharp decrease 30 of December (probably users were too busy with preparation to the New Year party).\n",
    "Christmas&New Year Promo event that started 25 of December didn't affect to the number of orders."
   ]
  },
  {
   "cell_type": "markdown",
   "metadata": {},
   "source": [
    "Let's find **average number of action per user by groups:**"
   ]
  },
  {
   "cell_type": "code",
   "execution_count": 58,
   "metadata": {},
   "outputs": [
    {
     "name": "stdout",
     "output_type": "stream",
     "text": [
      "Average number of events per users in group A: 7.33\n",
      "Average number of events per users in group B: 7.22\n"
     ]
    }
   ],
   "source": [
    "#calculating average number of action per user by groups\n",
    "avg_n_action_A = len(group_A)/group_A.user_id.nunique()\n",
    "print('Average number of events per users in group A: {:.2f}'.format(avg_n_action_A))\n",
    "avg_n_action_B = len(group_B)/group_B.user_id.nunique()\n",
    "print('Average number of events per users in group B: {:.2f}'.format(avg_n_action_B))"
   ]
  },
  {
   "cell_type": "markdown",
   "metadata": {},
   "source": [
    "Average number of events per users a bit less in group B, difference is 0.11."
   ]
  },
  {
   "cell_type": "markdown",
   "metadata": {},
   "source": [
    "Checking **additional informations about users by groups:**"
   ]
  },
  {
   "cell_type": "markdown",
   "metadata": {},
   "source": [
    "**Devices:**"
   ]
  },
  {
   "cell_type": "code",
   "execution_count": 59,
   "metadata": {},
   "outputs": [
    {
     "data": {
      "image/png": "[encoded data removed]",
      "text/plain": [
       "<Figure size 864x432 with 1 Axes>"
      ]
     },
     "metadata": {
      "needs_background": "light"
     },
     "output_type": "display_data"
    }
   ],
   "source": [
    "#making a graph\n",
    "plt.figure(figsize=(12,6)) \n",
    "ax = sns.countplot(x='device', data=df_ab_test_users, hue='group', palette = 'tab10')\n",
    "ax.set_title('Which devices users used?', fontsize=14)\n",
    "ax.set_ylabel('Number of users', fontsize=12)    \n",
    "ax.set_xlabel('Device', fontsize=12)\n",
    "plt.show()"
   ]
  },
  {
   "cell_type": "markdown",
   "metadata": {},
   "source": [
    "As same as all users from EU most of the users in group A and B use android device, then PC, iPhone and Mac.  \n",
    "For group B we have a bit more users who used android and a bit less users with other devices than in group A."
   ]
  },
  {
   "cell_type": "markdown",
   "metadata": {},
   "source": [
    "**Revenue:**"
   ]
  },
  {
   "cell_type": "code",
   "execution_count": 60,
   "metadata": {},
   "outputs": [
    {
     "name": "stdout",
     "output_type": "stream",
     "text": [
      "Number of purchase for group A: 6074 , group B: 5570\n",
      "Number of users who did purchase fro group A: 1931 , group B: 1782\n",
      "Revenue for group A: 145954.26, group B: 129659.30\n",
      "Average revenue per user group A: 75.58, group B: 72.76\n"
     ]
    }
   ],
   "source": [
    "#styding revenue\n",
    "n_purchase_A = group_A.query('details > 0')['user_id'].count()\n",
    "n_users_purchase_A = group_A.query('details > 0')['user_id'].nunique()\n",
    "n_purchase_B = group_B.query('details > 0')['user_id'].count()\n",
    "n_users_purchase_B = group_B.query('details > 0')['user_id'].nunique()\n",
    "\n",
    "print('Number of purchase for group A:', n_purchase_A, ', group B:', n_purchase_B)\n",
    "print('Number of users who did purchase fro group A:', n_users_purchase_A, ', group B:', n_users_purchase_B)\n",
    "print('Revenue for group A: {:.2f}, group B: {:.2f}'.format(group_A.details.sum(), group_B.details.sum()))\n",
    "print('Average revenue per user group A: {:.2f}, group B: {:.2f}'.format(group_A.details.sum()/n_users_purchase_A, \n",
    "                                                                        group_B.details.sum()/n_users_purchase_B ))"
   ]
  },
  {
   "cell_type": "markdown",
   "metadata": {},
   "source": [
    "And again group A showing better result: \n",
    "- in group A we have 504 more purchase, 149 more users who did purchase;\n",
    "- revenue is higher on 16294.96;\n",
    "- average revenue per user also higher on 2.82."
   ]
  },
  {
   "cell_type": "markdown",
   "metadata": {},
   "source": [
    "[Back to the Table of Contents](#contents)"
   ]
  },
  {
   "cell_type": "markdown",
   "metadata": {},
   "source": [
    "#### 5.2 Is there a statistically significant difference between group A and B in general? <a class=\"anchor\" id=\"chapter32\"></a>"
   ]
  },
  {
   "cell_type": "markdown",
   "metadata": {},
   "source": [
    "Let's check whether control group are significantly different from the test group or not.  \n",
    "To do this, we need to use the test of proportions or z-score:"
   ]
  },
  {
   "cell_type": "code",
   "execution_count": 61,
   "metadata": {},
   "outputs": [
    {
     "name": "stdout",
     "output_type": "stream",
     "text": [
      "5467 5383\n"
     ]
    }
   ],
   "source": [
    "#saving number of users for each groups in the parameters\n",
    "successes_A = n_events_group['n_users'].iloc[0]\n",
    "successes_B = n_events_group['n_users'].iloc[1]\n",
    "#checking result\n",
    "print(successes_A, successes_B)"
   ]
  },
  {
   "cell_type": "code",
   "execution_count": 62,
   "metadata": {},
   "outputs": [
    {
     "data": {
      "text/plain": [
       "10850"
      ]
     },
     "execution_count": 62,
     "metadata": {},
     "output_type": "execute_result"
    }
   ],
   "source": [
    "#calculating trails\n",
    "trails = df_ab_test_users['user_id'].nunique()\n",
    "#checking result\n",
    "trails"
   ]
  },
  {
   "cell_type": "markdown",
   "metadata": {},
   "source": [
    "Now we have parameters with number of users from control and test groups and we will use it in hypothesis testing.  \n",
    "Let's formulate hypotheses:"
   ]
  },
  {
   "cell_type": "markdown",
   "metadata": {},
   "source": [
    "H0 - proportions of the group A and group B are equal (H0 is always stated with an equal sign);  \n",
    "H1 - proportions of the group A and group B are not equal."
   ]
  },
  {
   "cell_type": "markdown",
   "metadata": {},
   "source": [
    "What do we know about significance level in statistic tests?  \n",
    "One of the criteria for a successful A/B test is: None of the key metrics varies by a statistically significant amount—typically by no more than 5%.   \n",
    "The alpha level we set relates to the confidence level:  \n",
    "- 0.05 - 95% confidence level  \n",
    "- 0.01 - 99% confidence level   \n",
    "\n",
    "The extent to which the key metrics differ among groups depends on how sensitive the experiments needs to be. 5% precision for A/B testing is a common criterion.  \n",
    "Therefore I will take 0.05 alpha level for all A/B tests:"
   ]
  },
  {
   "cell_type": "code",
   "execution_count": 63,
   "metadata": {},
   "outputs": [
    {
     "name": "stdout",
     "output_type": "stream",
     "text": [
      "p-value:  0.25409541110640776\n",
      "Failed to reject the null hypothesis: there is no reason to consider the proportions are different\n"
     ]
    }
   ],
   "source": [
    "#testing hypothesis\n",
    "alpha = .05 # significance level\n",
    "\n",
    "successes1 = successes_A\n",
    "successes2 = successes_B\n",
    "trials = trails\n",
    "\n",
    "#success proportion in the 246 group:\n",
    "p1 = successes1/trials\n",
    "#success proportion in the 247 group:\n",
    "p2 = successes2/trials\n",
    "#success proportion in the combined dataset:\n",
    "p_combined = (successes1 + successes2) / (trials + trials)\n",
    "#the difference between the datasets' proportions\n",
    "difference = p1 - p2\n",
    "#calculating the statistic in standard deviations of the standard normal distribution\n",
    "z_value = difference / mth.sqrt(p_combined * (1 - p_combined) * (1/trials + 1/trials))\n",
    "#setting up the standard normal distribution (mean 0, standard deviation 1)\n",
    "distr = st.norm(0, 1)\n",
    "\n",
    "p_value_AA = (1 - distr.cdf(abs(z_value))) * 2\n",
    "\n",
    "print('p-value: ', p_value_AA)\n",
    "\n",
    "if (p_value_AA < alpha):\n",
    "    print(\"Rejecting the null hypothesis: there is a significant difference between the proportions\")\n",
    "else:\n",
    "    print(\"Failed to reject the null hypothesis: there is no reason to consider the proportions are different\")"
   ]
  },
  {
   "cell_type": "markdown",
   "metadata": {},
   "source": [
    "Result of the test shows us that there is no reason to consider the proportions are different."
   ]
  },
  {
   "cell_type": "markdown",
   "metadata": {},
   "source": [
    "[Back to the Table of Contents](#contents)"
   ]
  },
  {
   "cell_type": "markdown",
   "metadata": {},
   "source": [
    "#### 5.3 Studying the events in the groups <a class=\"anchor\" id=\"chapter33\"></a>"
   ]
  },
  {
   "cell_type": "markdown",
   "metadata": {},
   "source": [
    "Let's see what events are in the logs and their frequency of occurrence for each group:"
   ]
  },
  {
   "cell_type": "code",
   "execution_count": 64,
   "metadata": {},
   "outputs": [
    {
     "data": {
      "image/png": "[encoded data removed]",
      "text/plain": [
       "<Figure size 1008x432 with 1 Axes>"
      ]
     },
     "metadata": {
      "needs_background": "light"
     },
     "output_type": "display_data"
    }
   ],
   "source": [
    "#plotting a graph\n",
    "plt.figure(figsize=(14,6)) \n",
    "ax = sns.countplot(x='device', data=df_ab_test_users, hue='group', palette = 'tab10')\n",
    "#putting text on the graph\n",
    "for p in ax.patches:\n",
    "    ax.annotate(format(p.get_height(), '.0f'), \n",
    "                   (p.get_x() + p.get_width() / 2., p.get_height()), \n",
    "                   ha = 'center', va = 'center', \n",
    "                   xytext = (0, 11), \n",
    "                   textcoords = 'offset points', size=12)\n",
    "#creating graph captions\n",
    "plt.gca().set_xticklabels(df_ab_test_users.event_name.value_counts().keys(), rotation=45, fontsize=12)\n",
    "plt.xlabel('Event name', fontsize=12)\n",
    "plt.ylabel('Number of action', fontsize=12)\n",
    "plt.title('Number of actions by each event', fontsize=16)\n",
    "plt.ylim(0, 19000)\n",
    "plt.show()"
   ]
  },
  {
   "cell_type": "markdown",
   "metadata": {},
   "source": [
    "Graph looks the same as for all users from EU.  \n",
    "We have a bit more users from group B in login event and a bit less in the other events than users from group A."
   ]
  },
  {
   "cell_type": "markdown",
   "metadata": {},
   "source": [
    "Let's find conversion in events for each group:"
   ]
  },
  {
   "cell_type": "code",
   "execution_count": 65,
   "metadata": {},
   "outputs": [
    {
     "data": {
      "text/html": [
       "<style  type=\"text/css\" >\n",
       "</style><table id=\"T_cfc85d4a_4245_11eb_b4c9_8c8590358123\" ><thead>    <tr>        <th class=\"col_heading level0 col0\" >event_name</th>        <th class=\"col_heading level0 col1\" >A</th>        <th class=\"col_heading level0 col2\" >B</th>        <th class=\"col_heading level0 col3\" >share_A</th>        <th class=\"col_heading level0 col4\" >share_B</th>    </tr></thead><tbody>\n",
       "                <tr>\n",
       "                                <td id=\"T_cfc85d4a_4245_11eb_b4c9_8c8590358123row0_col0\" class=\"data row0 col0\" >product_page</td>\n",
       "                        <td id=\"T_cfc85d4a_4245_11eb_b4c9_8c8590358123row0_col1\" class=\"data row0 col1\" >3639</td>\n",
       "                        <td id=\"T_cfc85d4a_4245_11eb_b4c9_8c8590358123row0_col2\" class=\"data row0 col2\" >3527</td>\n",
       "                        <td id=\"T_cfc85d4a_4245_11eb_b4c9_8c8590358123row0_col3\" class=\"data row0 col3\" >66.56%</td>\n",
       "                        <td id=\"T_cfc85d4a_4245_11eb_b4c9_8c8590358123row0_col4\" class=\"data row0 col4\" >65.52%</td>\n",
       "            </tr>\n",
       "            <tr>\n",
       "                                <td id=\"T_cfc85d4a_4245_11eb_b4c9_8c8590358123row1_col0\" class=\"data row1 col0\" >purchase</td>\n",
       "                        <td id=\"T_cfc85d4a_4245_11eb_b4c9_8c8590358123row1_col1\" class=\"data row1 col1\" >1931</td>\n",
       "                        <td id=\"T_cfc85d4a_4245_11eb_b4c9_8c8590358123row1_col2\" class=\"data row1 col2\" >1782</td>\n",
       "                        <td id=\"T_cfc85d4a_4245_11eb_b4c9_8c8590358123row1_col3\" class=\"data row1 col3\" >35.32%</td>\n",
       "                        <td id=\"T_cfc85d4a_4245_11eb_b4c9_8c8590358123row1_col4\" class=\"data row1 col4\" >33.10%</td>\n",
       "            </tr>\n",
       "            <tr>\n",
       "                                <td id=\"T_cfc85d4a_4245_11eb_b4c9_8c8590358123row2_col0\" class=\"data row2 col0\" >product_cart</td>\n",
       "                        <td id=\"T_cfc85d4a_4245_11eb_b4c9_8c8590358123row2_col1\" class=\"data row2 col1\" >1756</td>\n",
       "                        <td id=\"T_cfc85d4a_4245_11eb_b4c9_8c8590358123row2_col2\" class=\"data row2 col2\" >1812</td>\n",
       "                        <td id=\"T_cfc85d4a_4245_11eb_b4c9_8c8590358123row2_col3\" class=\"data row2 col3\" >32.12%</td>\n",
       "                        <td id=\"T_cfc85d4a_4245_11eb_b4c9_8c8590358123row2_col4\" class=\"data row2 col4\" >33.66%</td>\n",
       "            </tr>\n",
       "    </tbody></table>"
      ],
      "text/plain": [
       "<pandas.io.formats.style.Styler at 0x1a21f3f4d0>"
      ]
     },
     "execution_count": 65,
     "metadata": {},
     "output_type": "execute_result"
    }
   ],
   "source": [
    "#calculating number of users in each group by event\n",
    "pivot = df_ab_test_users.query('event_name != \"login\"').pivot_table(index='event_name', values='user_id',\n",
    "                                                                    columns='group',\n",
    "                                                                    aggfunc=lambda x: x.nunique()).reset_index()\n",
    "pivot.columns = ['event_name', 'A', 'B']\n",
    "ab_u_event = pivot.copy()\n",
    "#calculating a share\n",
    "ab_u_event['share_A']= ab_u_event['A']/successes_A\n",
    "ab_u_event['share_B']= ab_u_event['B']/successes_B\n",
    "#checking result\n",
    "ab_u_event.sort_values('A', ascending=False).style.format({'share_A': \"{:.2%}\",\n",
    "                                                                 'share_B': \"{:.2%}\"}).hide_index()"
   ]
  },
  {
   "cell_type": "code",
   "execution_count": 67,
   "metadata": {},
   "outputs": [
    {
     "data": {
      "text/plain": [
       "3639"
      ]
     },
     "execution_count": 67,
     "metadata": {},
     "output_type": "execute_result"
    }
   ],
   "source": [
    "pivot[pivot['event_name'] == 'product_page']['A'].iloc[0]"
   ]
  },
  {
   "cell_type": "markdown",
   "metadata": {},
   "source": [
    "In group B we have less users in `product page` and `purchase` events, conversion are less for each event than for users from A group."
   ]
  },
  {
   "cell_type": "markdown",
   "metadata": {},
   "source": [
    "[Back to the Table of Contents](#contents)"
   ]
  },
  {
   "cell_type": "markdown",
   "metadata": {},
   "source": [
    "#### 5.4 Is there a statistically significant difference between group A and B in events? <a class=\"anchor\" id=\"chapter34\"></a>"
   ]
  },
  {
   "cell_type": "markdown",
   "metadata": {},
   "source": [
    " We need to check whether two control and test groups are significantly different in each event.  \n",
    " To do that I will use the test of proportions or z-score again, but for each event:"
   ]
  },
  {
   "cell_type": "markdown",
   "metadata": {},
   "source": [
    "Now, in our case value of successes will be number of users for each group per event from pivot table.  \n",
    "Value of the trials - the number of users in the groups.  \n",
    "Let's formulate hypotheses:"
   ]
  },
  {
   "cell_type": "markdown",
   "metadata": {},
   "source": [
    "H0 - share of users that had \"name of event\" event of the group A is equal to the group B;  \n",
    "H1 - share of users that had \"name of event\" event of the group A is not equal to the group B."
   ]
  },
  {
   "cell_type": "code",
   "execution_count": 68,
   "metadata": {},
   "outputs": [],
   "source": [
    "#creating function for checking hypothesis\n",
    "def test_hypothesis(group1, group2, event, alpha):\n",
    "    \n",
    "    #getting variables for the test:\n",
    "    #accessing to value of success directly from pivot table\n",
    "    successes1=pivot[pivot['event_name']==event][group1].iloc[0]\n",
    "    successes2=pivot[pivot['event_name']==event][group2].iloc[0]\n",
    "    \n",
    "    #accessing to value of trials from df_new\n",
    "    trials1=df_ab_test_users[df_ab_test_users['group']==group1]['user_id'].nunique()\n",
    "    trials2=df_ab_test_users[df_ab_test_users['group']==group2]['user_id'].nunique()\n",
    "\n",
    "    #proportion for success in the first group\n",
    "    p1 = successes1/trials1\n",
    "    #proportion for success in the second group\n",
    "    p2 = successes2/trials2\n",
    "    #proportion in a combined dataset\n",
    "    p_combined = (successes1 + successes2) / (trials1 + trials2)\n",
    "    #the difference between the datasets' proportions\n",
    "    difference = p1 - p2\n",
    "    #calculating the statistic in standard deviations of the standard normal distribution\n",
    "    z_value = difference / mth.sqrt(p_combined * (1 - p_combined) * (1/trials1 + 1/trials2))\n",
    "    #setting up the standard normal distribution (mean 0, standard deviation 1)\n",
    "    distr = st.norm(0, 1) \n",
    "    \n",
    "    p_value = (1 - distr.cdf(abs(z_value))) * 2\n",
    "\n",
    "    print('p-value: ', p_value)\n",
    "\n",
    "    if (p_value < alpha):\n",
    "        print(\"Reject H0 for\", event,'event and groups:',\n",
    "              group1,'and', group2, 'there is a significant difference between the proportions')\n",
    "    else:\n",
    "        print(\"Fail to Reject H0 for\", event,'event and groups:',\n",
    "              group1,'and', group2, ', there is no reason to consider the proportions are different')  "
   ]
  },
  {
   "cell_type": "code",
   "execution_count": 69,
   "metadata": {},
   "outputs": [
    {
     "name": "stdout",
     "output_type": "stream",
     "text": [
      "p-value:  0.08746918913258162\n",
      "Fail to Reject H0 for product_cart event and groups: A and B , there is no reason to consider the proportions are different\n",
      "p-value:  0.2518419682737163\n",
      "Fail to Reject H0 for product_page event and groups: A and B , there is no reason to consider the proportions are different\n",
      "p-value:  0.014959088807690257\n",
      "Reject H0 for purchase event and groups: A and B there is a significant difference between the proportions\n"
     ]
    }
   ],
   "source": [
    "#applying the function for all events\n",
    "for i in pivot.event_name.unique():\n",
    "    test_hypothesis('A', 'B', i, alpha=0.05)"
   ]
  },
  {
   "cell_type": "markdown",
   "metadata": {},
   "source": [
    "Result of the tests show us that there is no reason to consider the proportions are different for each events, exept purchase event.  \n",
    "So, looks like there is no difference between control and test groups in general, but there is differnense in purchase event.  \n",
    "Experiment shows us that users react different to the improved recommendation system."
   ]
  },
  {
   "cell_type": "markdown",
   "metadata": {},
   "source": [
    "[Back to the Table of Contents](#contents)"
   ]
  },
  {
   "cell_type": "markdown",
   "metadata": {},
   "source": [
    "#### Conclusion <a class=\"anchor\" id=\"chapter35\"></a>"
   ]
  },
  {
   "cell_type": "markdown",
   "metadata": {},
   "source": [
    "In this step I found:\n",
    "- 40078 entries made by 5467 users in control group A, 50.4% of all participants of the AB test;\n",
    "- 38851 entries made by 5383 users in group B with new payment funnel, 49.6% of all participants of the AB test.\n",
    "\n",
    "First sign-up date: 2020-12-07   \n",
    "Last sign-up date: 2020-12-23   \n",
    "First action date: 2020-12-07   \n",
    "Last action date: 2020-12-30   \n",
    "\n",
    "Most of the users use android device, then PC, iPhone and Mac in both groups.\n",
    "\n",
    "Number of purchase: \n",
    "- group A: 6074\n",
    "- group B: 5570\n",
    "\n",
    "Number of users who did purchase: \n",
    "- group A: 1931\n",
    "- group B: 1782\n",
    "\n",
    "Revenue:  \n",
    "- group A: 145954.26\n",
    "- group B: 129659.30\n",
    "\n",
    "Average revenue per user:\n",
    "- group A: 75.58\n",
    "- group B: 72.76\n",
    "\n",
    "Average number of events per users in group A: 7.33\n",
    "Average number of events per users in group B: 7.22\n",
    "\n",
    "Group A:\n",
    "- 66.56% of all users check the product page;\n",
    "- 35.32% of users did purchase;\n",
    "- 32.12% of users add smth to cart.\n",
    "\n",
    "Group B:\n",
    "- 65.52% of all users check the product page;\n",
    "- 33.10% of users did purchase;\n",
    "- 33.66% of users add smth to cart.\n",
    "\n",
    "There is no significant difference between control (A) and test (B) groups in general, but there is differnense in purchase event."
   ]
  },
  {
   "cell_type": "markdown",
   "metadata": {},
   "source": [
    "[Back to the Table of Contents](#contents)"
   ]
  },
  {
   "cell_type": "markdown",
   "metadata": {},
   "source": [
    "### Overall conclusion <a class=\"anchor\" id=\"chapter36\"></a>"
   ]
  },
  {
   "cell_type": "markdown",
   "metadata": {},
   "source": [
    "Number of events is: 78929   \n",
    "Group A: 40078  \n",
    "Group B: 38851  \n",
    "Number of unique users is: 10850  \n",
    "Group A: 5467  \n",
    "Group B: 5383  \n",
    "Considered period:   \n",
    "Sign-up: 2020-12-07 - 2020-12-23  \n",
    "Action: 2020-12-07 - 2020-12-30  \n",
    "\n",
    "---\n",
    "\n",
    "- 7.6% of all users make the entire journey from their first event to payment.\n",
    "- most of users we lose on product page event.\n",
    "\n",
    "---\n",
    "\n",
    "Funnel:  \n",
    "`product_page → product_card → purchase` \n",
    "\n",
    "Group A:\n",
    "- 66.56% of all users check the product page;\n",
    "- 35.32% of users did purchase;\n",
    "- 32.12% of users add smth to cart.\n",
    "\n",
    "Group B:\n",
    "- 65.52% of all users check the product page;\n",
    "- 33.10% of users did purchase;\n",
    "- 33.66% of users add smth to cart.\n",
    "\n",
    "Average number of events per users in group A: 7.33\n",
    "Average number of events per users in group B: 7.22\n",
    "\n",
    "---\n",
    "\n",
    "Number of purchase: \n",
    "- group A: 6074\n",
    "- group B: 5570\n",
    "\n",
    "Number of users who did purchase: \n",
    "- group A: 1931\n",
    "- group B: 1782\n",
    "\n",
    "Revenue:  \n",
    "- group A: 145954.26\n",
    "- group B: 129659.30\n",
    "\n",
    "Average revenue per user:\n",
    "- group A: 75.58\n",
    "- group B: 72.76\n",
    "\n",
    "---\n",
    "Result of tests show that:\n",
    "\n",
    "- There is no significant difference between control (A) and test (B) groups in general, but there is differnense in `purchase` event.\n",
    "\n",
    "Looks like users react different to the improved recommendation system.  \n",
    "\n",
    "Probably that changing will alienate some users to do purchase (cause we see decreasing in number of purchase for B group and statistical difference in proportions between control and test group).   \n",
    "\n",
    "Since we didn't get increasing in conversion in every steps in test group and there is no statistical difference between groups in general and events product page and cart, I assume that new recommendation system will not prompt more users to move to the next stages. "
   ]
  },
  {
   "cell_type": "markdown",
   "metadata": {},
   "source": [
    "[Back to the Table of Contents](#contents)"
   ]
  }
 ],
 "metadata": {
  "kernelspec": {
   "display_name": "Python 3",
   "language": "python",
   "name": "python3"
  },
  "language_info": {
   "codemirror_mode": {
    "name": "ipython",
    "version": 3
   },
   "file_extension": ".py",
   "mimetype": "text/x-python",
   "name": "python",
   "nbconvert_exporter": "python",
   "pygments_lexer": "ipython3",
   "version": "3.7.6"
  }
 },
 "nbformat": 4,
 "nbformat_minor": 4
}
